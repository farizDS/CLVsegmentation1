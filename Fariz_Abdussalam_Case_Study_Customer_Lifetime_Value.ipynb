{
  "nbformat": 4,
  "nbformat_minor": 0,
  "metadata": {
    "colab": {
      "name": "Fariz Abdussalam - Case Study - Customer Lifetime Value.ipynb",
      "provenance": [],
      "toc_visible": true
    },
    "kernelspec": {
      "name": "python3",
      "display_name": "Python 3"
    },
    "language_info": {
      "name": "python"
    }
  },
  "cells": [
    {
      "cell_type": "markdown",
      "source": [
        "# Customer Lifetime Value"
      ],
      "metadata": {
        "id": "Q1D0QFRl-RZt"
      }
    },
    {
      "cell_type": "markdown",
      "source": [
        "Group members:\n",
        "\n",
        "\n",
        "1.   Fariz Abdussalam\n",
        "2.   Brian damar\n",
        "\n"
      ],
      "metadata": {
        "id": "lI5735fSTbv7"
      }
    },
    {
      "cell_type": "markdown",
      "source": [
        "#Importing data and libraries"
      ],
      "metadata": {
        "id": "QUEam688-V6i"
      }
    },
    {
      "cell_type": "code",
      "execution_count": 1,
      "metadata": {
        "colab": {
          "base_uri": "https://localhost:8080/"
        },
        "id": "VMKTB8dmPk64",
        "outputId": "6f59402a-1b87-4043-82fd-17602b435fb5"
      },
      "outputs": [
        {
          "output_type": "stream",
          "name": "stdout",
          "text": [
            "Looking in indexes: https://pypi.org/simple, https://us-python.pkg.dev/colab-wheels/public/simple/\n",
            "Collecting lifetimes\n",
            "  Downloading Lifetimes-0.11.3-py3-none-any.whl (584 kB)\n",
            "\u001b[K     |████████████████████████████████| 584 kB 14.0 MB/s \n",
            "\u001b[?25hRequirement already satisfied: scipy>=1.0.0 in /usr/local/lib/python3.7/dist-packages (from lifetimes) (1.4.1)\n",
            "Requirement already satisfied: dill>=0.2.6 in /usr/local/lib/python3.7/dist-packages (from lifetimes) (0.3.5.1)\n",
            "Requirement already satisfied: pandas>=0.24.0 in /usr/local/lib/python3.7/dist-packages (from lifetimes) (1.3.5)\n",
            "Requirement already satisfied: autograd>=1.2.0 in /usr/local/lib/python3.7/dist-packages (from lifetimes) (1.4)\n",
            "Requirement already satisfied: numpy>=1.10.0 in /usr/local/lib/python3.7/dist-packages (from lifetimes) (1.21.6)\n",
            "Requirement already satisfied: future>=0.15.2 in /usr/local/lib/python3.7/dist-packages (from autograd>=1.2.0->lifetimes) (0.16.0)\n",
            "Requirement already satisfied: pytz>=2017.3 in /usr/local/lib/python3.7/dist-packages (from pandas>=0.24.0->lifetimes) (2022.1)\n",
            "Requirement already satisfied: python-dateutil>=2.7.3 in /usr/local/lib/python3.7/dist-packages (from pandas>=0.24.0->lifetimes) (2.8.2)\n",
            "Requirement already satisfied: six>=1.5 in /usr/local/lib/python3.7/dist-packages (from python-dateutil>=2.7.3->pandas>=0.24.0->lifetimes) (1.15.0)\n",
            "Installing collected packages: lifetimes\n",
            "Successfully installed lifetimes-0.11.3\n"
          ]
        }
      ],
      "source": [
        "!pip install lifetimes"
      ]
    },
    {
      "cell_type": "code",
      "source": [
        "!pip install yellowbrick"
      ],
      "metadata": {
        "colab": {
          "base_uri": "https://localhost:8080/"
        },
        "id": "DSU02zIz9Tpt",
        "outputId": "fa858527-cf50-4183-9780-b280244c8bfe"
      },
      "execution_count": 2,
      "outputs": [
        {
          "output_type": "stream",
          "name": "stdout",
          "text": [
            "Looking in indexes: https://pypi.org/simple, https://us-python.pkg.dev/colab-wheels/public/simple/\n",
            "Requirement already satisfied: yellowbrick in /usr/local/lib/python3.7/dist-packages (1.4)\n",
            "Requirement already satisfied: matplotlib!=3.0.0,>=2.0.2 in /usr/local/lib/python3.7/dist-packages (from yellowbrick) (3.2.2)\n",
            "Requirement already satisfied: scipy>=1.0.0 in /usr/local/lib/python3.7/dist-packages (from yellowbrick) (1.4.1)\n",
            "Requirement already satisfied: numpy>=1.16.0 in /usr/local/lib/python3.7/dist-packages (from yellowbrick) (1.21.6)\n",
            "Requirement already satisfied: scikit-learn>=1.0.0 in /usr/local/lib/python3.7/dist-packages (from yellowbrick) (1.0.2)\n",
            "Requirement already satisfied: cycler>=0.10.0 in /usr/local/lib/python3.7/dist-packages (from yellowbrick) (0.11.0)\n",
            "Requirement already satisfied: kiwisolver>=1.0.1 in /usr/local/lib/python3.7/dist-packages (from matplotlib!=3.0.0,>=2.0.2->yellowbrick) (1.4.2)\n",
            "Requirement already satisfied: pyparsing!=2.0.4,!=2.1.2,!=2.1.6,>=2.0.1 in /usr/local/lib/python3.7/dist-packages (from matplotlib!=3.0.0,>=2.0.2->yellowbrick) (3.0.9)\n",
            "Requirement already satisfied: python-dateutil>=2.1 in /usr/local/lib/python3.7/dist-packages (from matplotlib!=3.0.0,>=2.0.2->yellowbrick) (2.8.2)\n",
            "Requirement already satisfied: typing-extensions in /usr/local/lib/python3.7/dist-packages (from kiwisolver>=1.0.1->matplotlib!=3.0.0,>=2.0.2->yellowbrick) (4.2.0)\n",
            "Requirement already satisfied: six>=1.5 in /usr/local/lib/python3.7/dist-packages (from python-dateutil>=2.1->matplotlib!=3.0.0,>=2.0.2->yellowbrick) (1.15.0)\n",
            "Requirement already satisfied: threadpoolctl>=2.0.0 in /usr/local/lib/python3.7/dist-packages (from scikit-learn>=1.0.0->yellowbrick) (3.1.0)\n",
            "Requirement already satisfied: joblib>=0.11 in /usr/local/lib/python3.7/dist-packages (from scikit-learn>=1.0.0->yellowbrick) (1.1.0)\n"
          ]
        }
      ]
    },
    {
      "cell_type": "code",
      "source": [
        "!pip install --upgrade gap-stat"
      ],
      "metadata": {
        "colab": {
          "base_uri": "https://localhost:8080/"
        },
        "id": "fHqVPaCy6xjZ",
        "outputId": "2234dfe7-e947-4f44-8493-0d32c209095f"
      },
      "execution_count": 3,
      "outputs": [
        {
          "output_type": "stream",
          "name": "stdout",
          "text": [
            "Looking in indexes: https://pypi.org/simple, https://us-python.pkg.dev/colab-wheels/public/simple/\n",
            "Collecting gap-stat\n",
            "  Downloading gap_stat-2.0.1-py3-none-any.whl (6.9 kB)\n",
            "Requirement already satisfied: pandas in /usr/local/lib/python3.7/dist-packages (from gap-stat) (1.3.5)\n",
            "Requirement already satisfied: scipy in /usr/local/lib/python3.7/dist-packages (from gap-stat) (1.4.1)\n",
            "Requirement already satisfied: numpy in /usr/local/lib/python3.7/dist-packages (from gap-stat) (1.21.6)\n",
            "Requirement already satisfied: pytz>=2017.3 in /usr/local/lib/python3.7/dist-packages (from pandas->gap-stat) (2022.1)\n",
            "Requirement already satisfied: python-dateutil>=2.7.3 in /usr/local/lib/python3.7/dist-packages (from pandas->gap-stat) (2.8.2)\n",
            "Requirement already satisfied: six>=1.5 in /usr/local/lib/python3.7/dist-packages (from python-dateutil>=2.7.3->pandas->gap-stat) (1.15.0)\n",
            "Installing collected packages: gap-stat\n",
            "Successfully installed gap-stat-2.0.1\n"
          ]
        }
      ]
    },
    {
      "cell_type": "code",
      "source": [
        "from yellowbrick.cluster import KElbowVisualizer\n",
        "from yellowbrick.cluster import SilhouetteVisualizer\n",
        "import numpy as np\n",
        "import pandas as pd \n",
        "import scipy.stats as stats"
      ],
      "metadata": {
        "id": "c7G9UbCY9X43"
      },
      "execution_count": 31,
      "outputs": []
    },
    {
      "cell_type": "code",
      "source": [
        "import pandas as pd\n",
        "from gap_statistic import OptimalK\n",
        "import urllib\n",
        "import json\n",
        "#import unidecode\n",
        "import seaborn as sns\n",
        "import matplotlib.pyplot as plt\n",
        "import matplotlib.image as mpimg\n",
        "import datetime\n",
        "import numpy as np\n",
        "from statsmodels.tsa.seasonal import seasonal_decompose\n",
        "from sklearn.preprocessing import StandardScaler\n",
        "from sklearn.cluster import KMeans"
      ],
      "metadata": {
        "colab": {
          "base_uri": "https://localhost:8080/"
        },
        "id": "5Q1gGza_Rwpu",
        "outputId": "6ba5baca-8b18-450c-d8e6-1695f37f138c"
      },
      "execution_count": 5,
      "outputs": [
        {
          "output_type": "stream",
          "name": "stderr",
          "text": [
            "/usr/local/lib/python3.7/dist-packages/statsmodels/tools/_testing.py:19: FutureWarning: pandas.util.testing is deprecated. Use the functions in the public API at pandas.testing instead.\n",
            "  import pandas.util.testing as tm\n"
          ]
        }
      ]
    },
    {
      "cell_type": "code",
      "source": [
        "# numpy for array manipulation\n",
        "import numpy as np\n",
        "# pandas for dataframe manipulation\n",
        "import pandas as pd\n",
        "# matplotlib for data visualization\n",
        "import matplotlib.pyplot as plt\n",
        "\n",
        "#split training set and test set\n",
        "from sklearn.model_selection import train_test_split\n",
        "# import regression model\n",
        "from sklearn.linear_model import LinearRegression\n",
        "# import metrics module from scikit-learn\n",
        "from sklearn import metrics\n",
        "\n",
        "# load lifetimes plotting module\n",
        "from lifetimes.plotting import *\n",
        "# load lifetimes utils module\n",
        "from lifetimes.utils import *\n",
        "# load BetaGeoFitter model\n",
        "from lifetimes import BetaGeoFitter\n",
        "# load GammaGammaFitter\n",
        "from lifetimes import GammaGammaFitter\n",
        "\n",
        "# seaborn for preety data visualization\n",
        "import seaborn as sns\n",
        "\n",
        "# import datetime for date manipulation\n",
        "import datetime as dt"
      ],
      "metadata": {
        "id": "bxlAaU1_Pmxe"
      },
      "execution_count": 6,
      "outputs": []
    },
    {
      "cell_type": "code",
      "source": [
        "customers = pd.read_csv('https://raw.githubusercontent.com/hadimaster65555/dataset_for_teaching/main/dataset/olist_ecommerce_data/olist_customers_dataset.csv',lineterminator='\\n')\n",
        "geolocation = pd.read_csv('https://raw.githubusercontent.com/hadimaster65555/dataset_for_teaching/main/dataset/olist_ecommerce_data/olist_geolocation_dataset.csv')\n",
        "orders = pd.read_csv('https://raw.githubusercontent.com/hadimaster65555/dataset_for_teaching/main/dataset/olist_ecommerce_data/olist_orders_dataset.csv')\n",
        "order_items = pd.read_csv('https://raw.githubusercontent.com/hadimaster65555/dataset_for_teaching/main/dataset/olist_ecommerce_data/olist_order_items_dataset.csv')"
      ],
      "metadata": {
        "id": "GUnhhMMDPumA"
      },
      "execution_count": 7,
      "outputs": []
    },
    {
      "cell_type": "markdown",
      "source": [
        "# Task 1: Create RFM Segmentation"
      ],
      "metadata": {
        "id": "d6bCF3eO-wk3"
      }
    },
    {
      "cell_type": "markdown",
      "source": [
        "## EDA"
      ],
      "metadata": {
        "id": "1H3CX3et-dcP"
      }
    },
    {
      "cell_type": "code",
      "source": [
        "order_items.head()"
      ],
      "metadata": {
        "colab": {
          "base_uri": "https://localhost:8080/",
          "height": 270
        },
        "id": "owuNOtsZRV4j",
        "outputId": "cb3ea11d-aa3b-4dd5-8e77-26b58427e843"
      },
      "execution_count": 8,
      "outputs": [
        {
          "output_type": "execute_result",
          "data": {
            "text/plain": [
              "                           order_id  order_item_id  \\\n",
              "0  00010242fe8c5a6d1ba2dd792cb16214              1   \n",
              "1  00018f77f2f0320c557190d7a144bdd3              1   \n",
              "2  000229ec398224ef6ca0657da4fc703e              1   \n",
              "3  00024acbcdf0a6daa1e931b038114c75              1   \n",
              "4  00042b26cf59d7ce69dfabb4e55b4fd9              1   \n",
              "\n",
              "                         product_id                         seller_id  \\\n",
              "0  4244733e06e7ecb4970a6e2683c13e61  48436dade18ac8b2bce089ec2a041202   \n",
              "1  e5f2d52b802189ee658865ca93d83a8f  dd7ddc04e1b6c2c614352b383efe2d36   \n",
              "2  c777355d18b72b67abbeef9df44fd0fd  5b51032eddd242adc84c38acab88f23d   \n",
              "3  7634da152a4610f1595efa32f14722fc  9d7a1d34a5052409006425275ba1c2b4   \n",
              "4  ac6c3623068f30de03045865e4e10089  df560393f3a51e74553ab94004ba5c87   \n",
              "\n",
              "   shipping_limit_date   price  freight_value  \n",
              "0  2017-09-19 09:45:35   58.90          13.29  \n",
              "1  2017-05-03 11:05:13  239.90          19.93  \n",
              "2  2018-01-18 14:48:30  199.00          17.87  \n",
              "3  2018-08-15 10:10:18   12.99          12.79  \n",
              "4  2017-02-13 13:57:51  199.90          18.14  "
            ],
            "text/html": [
              "\n",
              "  <div id=\"df-37364109-bcfb-4e18-babe-d3a356b8aa5d\">\n",
              "    <div class=\"colab-df-container\">\n",
              "      <div>\n",
              "<style scoped>\n",
              "    .dataframe tbody tr th:only-of-type {\n",
              "        vertical-align: middle;\n",
              "    }\n",
              "\n",
              "    .dataframe tbody tr th {\n",
              "        vertical-align: top;\n",
              "    }\n",
              "\n",
              "    .dataframe thead th {\n",
              "        text-align: right;\n",
              "    }\n",
              "</style>\n",
              "<table border=\"1\" class=\"dataframe\">\n",
              "  <thead>\n",
              "    <tr style=\"text-align: right;\">\n",
              "      <th></th>\n",
              "      <th>order_id</th>\n",
              "      <th>order_item_id</th>\n",
              "      <th>product_id</th>\n",
              "      <th>seller_id</th>\n",
              "      <th>shipping_limit_date</th>\n",
              "      <th>price</th>\n",
              "      <th>freight_value</th>\n",
              "    </tr>\n",
              "  </thead>\n",
              "  <tbody>\n",
              "    <tr>\n",
              "      <th>0</th>\n",
              "      <td>00010242fe8c5a6d1ba2dd792cb16214</td>\n",
              "      <td>1</td>\n",
              "      <td>4244733e06e7ecb4970a6e2683c13e61</td>\n",
              "      <td>48436dade18ac8b2bce089ec2a041202</td>\n",
              "      <td>2017-09-19 09:45:35</td>\n",
              "      <td>58.90</td>\n",
              "      <td>13.29</td>\n",
              "    </tr>\n",
              "    <tr>\n",
              "      <th>1</th>\n",
              "      <td>00018f77f2f0320c557190d7a144bdd3</td>\n",
              "      <td>1</td>\n",
              "      <td>e5f2d52b802189ee658865ca93d83a8f</td>\n",
              "      <td>dd7ddc04e1b6c2c614352b383efe2d36</td>\n",
              "      <td>2017-05-03 11:05:13</td>\n",
              "      <td>239.90</td>\n",
              "      <td>19.93</td>\n",
              "    </tr>\n",
              "    <tr>\n",
              "      <th>2</th>\n",
              "      <td>000229ec398224ef6ca0657da4fc703e</td>\n",
              "      <td>1</td>\n",
              "      <td>c777355d18b72b67abbeef9df44fd0fd</td>\n",
              "      <td>5b51032eddd242adc84c38acab88f23d</td>\n",
              "      <td>2018-01-18 14:48:30</td>\n",
              "      <td>199.00</td>\n",
              "      <td>17.87</td>\n",
              "    </tr>\n",
              "    <tr>\n",
              "      <th>3</th>\n",
              "      <td>00024acbcdf0a6daa1e931b038114c75</td>\n",
              "      <td>1</td>\n",
              "      <td>7634da152a4610f1595efa32f14722fc</td>\n",
              "      <td>9d7a1d34a5052409006425275ba1c2b4</td>\n",
              "      <td>2018-08-15 10:10:18</td>\n",
              "      <td>12.99</td>\n",
              "      <td>12.79</td>\n",
              "    </tr>\n",
              "    <tr>\n",
              "      <th>4</th>\n",
              "      <td>00042b26cf59d7ce69dfabb4e55b4fd9</td>\n",
              "      <td>1</td>\n",
              "      <td>ac6c3623068f30de03045865e4e10089</td>\n",
              "      <td>df560393f3a51e74553ab94004ba5c87</td>\n",
              "      <td>2017-02-13 13:57:51</td>\n",
              "      <td>199.90</td>\n",
              "      <td>18.14</td>\n",
              "    </tr>\n",
              "  </tbody>\n",
              "</table>\n",
              "</div>\n",
              "      <button class=\"colab-df-convert\" onclick=\"convertToInteractive('df-37364109-bcfb-4e18-babe-d3a356b8aa5d')\"\n",
              "              title=\"Convert this dataframe to an interactive table.\"\n",
              "              style=\"display:none;\">\n",
              "        \n",
              "  <svg xmlns=\"http://www.w3.org/2000/svg\" height=\"24px\"viewBox=\"0 0 24 24\"\n",
              "       width=\"24px\">\n",
              "    <path d=\"M0 0h24v24H0V0z\" fill=\"none\"/>\n",
              "    <path d=\"M18.56 5.44l.94 2.06.94-2.06 2.06-.94-2.06-.94-.94-2.06-.94 2.06-2.06.94zm-11 1L8.5 8.5l.94-2.06 2.06-.94-2.06-.94L8.5 2.5l-.94 2.06-2.06.94zm10 10l.94 2.06.94-2.06 2.06-.94-2.06-.94-.94-2.06-.94 2.06-2.06.94z\"/><path d=\"M17.41 7.96l-1.37-1.37c-.4-.4-.92-.59-1.43-.59-.52 0-1.04.2-1.43.59L10.3 9.45l-7.72 7.72c-.78.78-.78 2.05 0 2.83L4 21.41c.39.39.9.59 1.41.59.51 0 1.02-.2 1.41-.59l7.78-7.78 2.81-2.81c.8-.78.8-2.07 0-2.86zM5.41 20L4 18.59l7.72-7.72 1.47 1.35L5.41 20z\"/>\n",
              "  </svg>\n",
              "      </button>\n",
              "      \n",
              "  <style>\n",
              "    .colab-df-container {\n",
              "      display:flex;\n",
              "      flex-wrap:wrap;\n",
              "      gap: 12px;\n",
              "    }\n",
              "\n",
              "    .colab-df-convert {\n",
              "      background-color: #E8F0FE;\n",
              "      border: none;\n",
              "      border-radius: 50%;\n",
              "      cursor: pointer;\n",
              "      display: none;\n",
              "      fill: #1967D2;\n",
              "      height: 32px;\n",
              "      padding: 0 0 0 0;\n",
              "      width: 32px;\n",
              "    }\n",
              "\n",
              "    .colab-df-convert:hover {\n",
              "      background-color: #E2EBFA;\n",
              "      box-shadow: 0px 1px 2px rgba(60, 64, 67, 0.3), 0px 1px 3px 1px rgba(60, 64, 67, 0.15);\n",
              "      fill: #174EA6;\n",
              "    }\n",
              "\n",
              "    [theme=dark] .colab-df-convert {\n",
              "      background-color: #3B4455;\n",
              "      fill: #D2E3FC;\n",
              "    }\n",
              "\n",
              "    [theme=dark] .colab-df-convert:hover {\n",
              "      background-color: #434B5C;\n",
              "      box-shadow: 0px 1px 3px 1px rgba(0, 0, 0, 0.15);\n",
              "      filter: drop-shadow(0px 1px 2px rgba(0, 0, 0, 0.3));\n",
              "      fill: #FFFFFF;\n",
              "    }\n",
              "  </style>\n",
              "\n",
              "      <script>\n",
              "        const buttonEl =\n",
              "          document.querySelector('#df-37364109-bcfb-4e18-babe-d3a356b8aa5d button.colab-df-convert');\n",
              "        buttonEl.style.display =\n",
              "          google.colab.kernel.accessAllowed ? 'block' : 'none';\n",
              "\n",
              "        async function convertToInteractive(key) {\n",
              "          const element = document.querySelector('#df-37364109-bcfb-4e18-babe-d3a356b8aa5d');\n",
              "          const dataTable =\n",
              "            await google.colab.kernel.invokeFunction('convertToInteractive',\n",
              "                                                     [key], {});\n",
              "          if (!dataTable) return;\n",
              "\n",
              "          const docLinkHtml = 'Like what you see? Visit the ' +\n",
              "            '<a target=\"_blank\" href=https://colab.research.google.com/notebooks/data_table.ipynb>data table notebook</a>'\n",
              "            + ' to learn more about interactive tables.';\n",
              "          element.innerHTML = '';\n",
              "          dataTable['output_type'] = 'display_data';\n",
              "          await google.colab.output.renderOutput(dataTable, element);\n",
              "          const docLink = document.createElement('div');\n",
              "          docLink.innerHTML = docLinkHtml;\n",
              "          element.appendChild(docLink);\n",
              "        }\n",
              "      </script>\n",
              "    </div>\n",
              "  </div>\n",
              "  "
            ]
          },
          "metadata": {},
          "execution_count": 8
        }
      ]
    },
    {
      "cell_type": "code",
      "source": [
        "order_items_silver = order_items.groupby('order_id').agg({'price':sum,'freight_value':sum,'shipping_limit_date':max }).reset_index()\n"
      ],
      "metadata": {
        "id": "S8XpZciaP3Kh"
      },
      "execution_count": 9,
      "outputs": []
    },
    {
      "cell_type": "code",
      "source": [
        "sns.scatterplot(x='price',y='freight_value',data=order_items_silver)\n"
      ],
      "metadata": {
        "colab": {
          "base_uri": "https://localhost:8080/",
          "height": 379
        },
        "id": "bq88Y4eAP4XY",
        "outputId": "b2e92900-228d-4122-e828-ce464b68fe6f"
      },
      "execution_count": 10,
      "outputs": [
        {
          "output_type": "execute_result",
          "data": {
            "text/plain": [
              "<matplotlib.axes._subplots.AxesSubplot at 0x7f9db9560990>"
            ]
          },
          "metadata": {},
          "execution_count": 10
        },
        {
          "output_type": "display_data",
          "data": {
            "text/plain": [
              "<Figure size 576x396 with 1 Axes>"
            ],
            "image/png": "[encoded data removed]"
          },
          "metadata": {}
        }
      ]
    },
    {
      "cell_type": "markdown",
      "source": [
        "from the plot we can see there is an outlier for price and freight value. We decided to remove orders with a price over R$ 5000 and for the freight value we used logic as a value that is far away from 99% percentile.x\n"
      ],
      "metadata": {
        "id": "q6-FKeZCQMfQ"
      }
    },
    {
      "cell_type": "code",
      "source": [
        "percentil_freight_value = order_items_silver['freight_value'].quantile(0.99)\n",
        "order_items_silver = order_items_silver[(order_items_silver['price'] <= 5000) & (order_items_silver['freight_value'] <= percentil_freight_value)]"
      ],
      "metadata": {
        "id": "NLb3HLXCQLn_"
      },
      "execution_count": 11,
      "outputs": []
    },
    {
      "cell_type": "code",
      "source": [
        "orders.info()"
      ],
      "metadata": {
        "colab": {
          "base_uri": "https://localhost:8080/"
        },
        "id": "B4wiH8t5RlJ_",
        "outputId": "bee1dfc8-9612-49e9-a813-68ce21dbd55e"
      },
      "execution_count": 12,
      "outputs": [
        {
          "output_type": "stream",
          "name": "stdout",
          "text": [
            "<class 'pandas.core.frame.DataFrame'>\n",
            "RangeIndex: 99441 entries, 0 to 99440\n",
            "Data columns (total 8 columns):\n",
            " #   Column                         Non-Null Count  Dtype \n",
            "---  ------                         --------------  ----- \n",
            " 0   order_id                       99441 non-null  object\n",
            " 1   customer_id                    99441 non-null  object\n",
            " 2   order_status                   99441 non-null  object\n",
            " 3   order_purchase_timestamp       99441 non-null  object\n",
            " 4   order_approved_at              99281 non-null  object\n",
            " 5   order_delivered_carrier_date   97658 non-null  object\n",
            " 6   order_delivered_customer_date  96476 non-null  object\n",
            " 7   order_estimated_delivery_date  99441 non-null  object\n",
            "dtypes: object(8)\n",
            "memory usage: 6.1+ MB\n"
          ]
        }
      ]
    },
    {
      "cell_type": "code",
      "source": [
        "columns_timestamp = ['order_purchase_timestamp','order_approved_at',\n",
        "                     'order_delivered_carrier_date', 'order_delivered_customer_date', 'order_estimated_delivery_date']\n",
        "for column in columns_timestamp:\n",
        "    orders[column] = pd.to_datetime(orders[column])"
      ],
      "metadata": {
        "id": "6ps8uJntRqSJ"
      },
      "execution_count": 13,
      "outputs": []
    },
    {
      "cell_type": "code",
      "source": [
        "orders['diff_delivery_days'] = (orders['order_estimated_delivery_date'] - orders['order_delivered_customer_date']).dt.days"
      ],
      "metadata": {
        "id": "DR8fonYYVM8q"
      },
      "execution_count": 14,
      "outputs": []
    },
    {
      "cell_type": "code",
      "source": [
        "print(orders['diff_delivery_days'].describe())\n"
      ],
      "metadata": {
        "colab": {
          "base_uri": "https://localhost:8080/"
        },
        "id": "evzDQ0CbVP7_",
        "outputId": "bffa8332-9ef2-45e9-d9f5-a7c8e216acc4"
      },
      "execution_count": 15,
      "outputs": [
        {
          "output_type": "stream",
          "name": "stdout",
          "text": [
            "count    96476.000000\n",
            "mean        10.876881\n",
            "std         10.183854\n",
            "min       -189.000000\n",
            "25%          6.000000\n",
            "50%         11.000000\n",
            "75%         16.000000\n",
            "max        146.000000\n",
            "Name: diff_delivery_days, dtype: float64\n"
          ]
        }
      ]
    },
    {
      "cell_type": "markdown",
      "source": [
        "As we can see, the median difference between the estimated delivery and the actual delivery is 10 days, which is a bit high. Another fact is that  there are orders who are delivered several weeks before or after estimated delivery time time. we assume these are the outliers, hence We will remove the order which delivered before estimated date and we will remove the order which difference between delivered date and estimated date is more than 75% of difference in days (16). In other words, we keep orders where the difference between delivery day and estimated delivery day is between 0 to 20 (we set 20 as our limit because the 75th percentile of orders have 17 days as difference between delivery day and estimated delivery day)"
      ],
      "metadata": {
        "id": "zkyFu4JUVQfv"
      }
    },
    {
      "cell_type": "code",
      "source": [
        "orders_rev1 = orders.loc[orders['diff_delivery_days'].between(0,21) ]"
      ],
      "metadata": {
        "id": "qIXASYCPVzDP"
      },
      "execution_count": 16,
      "outputs": []
    },
    {
      "cell_type": "code",
      "source": [
        "orders_rev1['diff_delivery_days'].max()"
      ],
      "metadata": {
        "colab": {
          "base_uri": "https://localhost:8080/"
        },
        "id": "Se-7DllEW97k",
        "outputId": "c6ce3332-a583-4fa4-8bb7-e68dc12dde5d"
      },
      "execution_count": 17,
      "outputs": [
        {
          "output_type": "execute_result",
          "data": {
            "text/plain": [
              "21.0"
            ]
          },
          "metadata": {},
          "execution_count": 17
        }
      ]
    },
    {
      "cell_type": "code",
      "source": [
        "orders_silver = orders_rev1.merge(order_items_silver,on='order_id',how='inner')"
      ],
      "metadata": {
        "id": "lvVGkzneYGh_"
      },
      "execution_count": 18,
      "outputs": []
    },
    {
      "cell_type": "code",
      "source": [
        "orders_customers_raw = customers.merge(orders_silver, on='customer_id', how='inner')"
      ],
      "metadata": {
        "id": "jYTUZuAFao9A"
      },
      "execution_count": 19,
      "outputs": []
    },
    {
      "cell_type": "code",
      "source": [
        "orders_customers = orders_customers_raw.dropna()"
      ],
      "metadata": {
        "id": "9xy7f0YUsJrt"
      },
      "execution_count": 20,
      "outputs": []
    },
    {
      "cell_type": "code",
      "source": [
        "max_date = max(orders_customers['order_purchase_timestamp']) + datetime.timedelta(days=1)"
      ],
      "metadata": {
        "id": "VQZC0iZ6a11K"
      },
      "execution_count": 21,
      "outputs": []
    },
    {
      "cell_type": "code",
      "source": [
        "rfm_data_raw = orders_customers.groupby('customer_unique_id').agg({\n",
        "    'order_purchase_timestamp': lambda x: (max_date - x.max()).days,\n",
        "    'customer_id':'count',\n",
        "    'price':'sum'\n",
        "}).reset_index()\n",
        "rfm_data_raw.columns =['customer_id','recency','frequency','monetary']"
      ],
      "metadata": {
        "id": "MQIpQpW9a4q4"
      },
      "execution_count": 39,
      "outputs": []
    },
    {
      "cell_type": "code",
      "source": [
        "\n",
        "rfm_data = rfm_data_raw.drop(columns=[\"customer_id\"])"
      ],
      "metadata": {
        "id": "aZU6ZdTRa5Yr"
      },
      "execution_count": 54,
      "outputs": []
    },
    {
      "cell_type": "code",
      "source": [
        "g = sns.FacetGrid(\n",
        "    data = pd.melt(\n",
        "     rfm_data[[\"recency\", \"frequency\",\"monetary\"]],\n",
        "     value_vars=[\"recency\", \"frequency\",\"monetary\"]\n",
        "    ),\n",
        "    col = \"variable\",\n",
        "    sharex = False,\n",
        "    sharey = False\n",
        ")\n",
        "g.map(sns.histplot, \"value\");"
      ],
      "metadata": {
        "colab": {
          "base_uri": "https://localhost:8080/",
          "height": 221
        },
        "id": "wRQvdso9S5C2",
        "outputId": "b6428394-8b10-4541-fe30-1f59db64780c"
      },
      "execution_count": 55,
      "outputs": [
        {
          "output_type": "display_data",
          "data": {
            "text/plain": [
              "<Figure size 648x216 with 3 Axes>"
            ],
            "image/png": "[encoded data removed]"
          },
          "metadata": {}
        }
      ]
    },
    {
      "cell_type": "code",
      "source": [
        "rfm_data.describe()"
      ],
      "metadata": {
        "colab": {
          "base_uri": "https://localhost:8080/",
          "height": 300
        },
        "id": "Kq8yv0pvONGH",
        "outputId": "bb15ea80-5e70-4169-d8cc-5b09cac74106"
      },
      "execution_count": 53,
      "outputs": [
        {
          "output_type": "execute_result",
          "data": {
            "text/plain": [
              "            recency  frequency      monetary\n",
              "count  69573.000000    69573.0  69573.000000\n",
              "mean     239.545988        1.0     93.116694\n",
              "std      149.374371        0.0     65.257836\n",
              "min        1.000000        1.0      0.850000\n",
              "25%      119.000000        1.0     42.000000\n",
              "50%      225.000000        1.0     78.000000\n",
              "75%      351.000000        1.0    129.000000\n",
              "max      695.000000        1.0    305.900000"
            ],
            "text/html": [
              "\n",
              "  <div id=\"df-ddb6260a-e250-4e77-b599-6480d3554244\">\n",
              "    <div class=\"colab-df-container\">\n",
              "      <div>\n",
              "<style scoped>\n",
              "    .dataframe tbody tr th:only-of-type {\n",
              "        vertical-align: middle;\n",
              "    }\n",
              "\n",
              "    .dataframe tbody tr th {\n",
              "        vertical-align: top;\n",
              "    }\n",
              "\n",
              "    .dataframe thead th {\n",
              "        text-align: right;\n",
              "    }\n",
              "</style>\n",
              "<table border=\"1\" class=\"dataframe\">\n",
              "  <thead>\n",
              "    <tr style=\"text-align: right;\">\n",
              "      <th></th>\n",
              "      <th>recency</th>\n",
              "      <th>frequency</th>\n",
              "      <th>monetary</th>\n",
              "    </tr>\n",
              "  </thead>\n",
              "  <tbody>\n",
              "    <tr>\n",
              "      <th>count</th>\n",
              "      <td>69573.000000</td>\n",
              "      <td>69573.0</td>\n",
              "      <td>69573.000000</td>\n",
              "    </tr>\n",
              "    <tr>\n",
              "      <th>mean</th>\n",
              "      <td>239.545988</td>\n",
              "      <td>1.0</td>\n",
              "      <td>93.116694</td>\n",
              "    </tr>\n",
              "    <tr>\n",
              "      <th>std</th>\n",
              "      <td>149.374371</td>\n",
              "      <td>0.0</td>\n",
              "      <td>65.257836</td>\n",
              "    </tr>\n",
              "    <tr>\n",
              "      <th>min</th>\n",
              "      <td>1.000000</td>\n",
              "      <td>1.0</td>\n",
              "      <td>0.850000</td>\n",
              "    </tr>\n",
              "    <tr>\n",
              "      <th>25%</th>\n",
              "      <td>119.000000</td>\n",
              "      <td>1.0</td>\n",
              "      <td>42.000000</td>\n",
              "    </tr>\n",
              "    <tr>\n",
              "      <th>50%</th>\n",
              "      <td>225.000000</td>\n",
              "      <td>1.0</td>\n",
              "      <td>78.000000</td>\n",
              "    </tr>\n",
              "    <tr>\n",
              "      <th>75%</th>\n",
              "      <td>351.000000</td>\n",
              "      <td>1.0</td>\n",
              "      <td>129.000000</td>\n",
              "    </tr>\n",
              "    <tr>\n",
              "      <th>max</th>\n",
              "      <td>695.000000</td>\n",
              "      <td>1.0</td>\n",
              "      <td>305.900000</td>\n",
              "    </tr>\n",
              "  </tbody>\n",
              "</table>\n",
              "</div>\n",
              "      <button class=\"colab-df-convert\" onclick=\"convertToInteractive('df-ddb6260a-e250-4e77-b599-6480d3554244')\"\n",
              "              title=\"Convert this dataframe to an interactive table.\"\n",
              "              style=\"display:none;\">\n",
              "        \n",
              "  <svg xmlns=\"http://www.w3.org/2000/svg\" height=\"24px\"viewBox=\"0 0 24 24\"\n",
              "       width=\"24px\">\n",
              "    <path d=\"M0 0h24v24H0V0z\" fill=\"none\"/>\n",
              "    <path d=\"M18.56 5.44l.94 2.06.94-2.06 2.06-.94-2.06-.94-.94-2.06-.94 2.06-2.06.94zm-11 1L8.5 8.5l.94-2.06 2.06-.94-2.06-.94L8.5 2.5l-.94 2.06-2.06.94zm10 10l.94 2.06.94-2.06 2.06-.94-2.06-.94-.94-2.06-.94 2.06-2.06.94z\"/><path d=\"M17.41 7.96l-1.37-1.37c-.4-.4-.92-.59-1.43-.59-.52 0-1.04.2-1.43.59L10.3 9.45l-7.72 7.72c-.78.78-.78 2.05 0 2.83L4 21.41c.39.39.9.59 1.41.59.51 0 1.02-.2 1.41-.59l7.78-7.78 2.81-2.81c.8-.78.8-2.07 0-2.86zM5.41 20L4 18.59l7.72-7.72 1.47 1.35L5.41 20z\"/>\n",
              "  </svg>\n",
              "      </button>\n",
              "      \n",
              "  <style>\n",
              "    .colab-df-container {\n",
              "      display:flex;\n",
              "      flex-wrap:wrap;\n",
              "      gap: 12px;\n",
              "    }\n",
              "\n",
              "    .colab-df-convert {\n",
              "      background-color: #E8F0FE;\n",
              "      border: none;\n",
              "      border-radius: 50%;\n",
              "      cursor: pointer;\n",
              "      display: none;\n",
              "      fill: #1967D2;\n",
              "      height: 32px;\n",
              "      padding: 0 0 0 0;\n",
              "      width: 32px;\n",
              "    }\n",
              "\n",
              "    .colab-df-convert:hover {\n",
              "      background-color: #E2EBFA;\n",
              "      box-shadow: 0px 1px 2px rgba(60, 64, 67, 0.3), 0px 1px 3px 1px rgba(60, 64, 67, 0.15);\n",
              "      fill: #174EA6;\n",
              "    }\n",
              "\n",
              "    [theme=dark] .colab-df-convert {\n",
              "      background-color: #3B4455;\n",
              "      fill: #D2E3FC;\n",
              "    }\n",
              "\n",
              "    [theme=dark] .colab-df-convert:hover {\n",
              "      background-color: #434B5C;\n",
              "      box-shadow: 0px 1px 3px 1px rgba(0, 0, 0, 0.15);\n",
              "      filter: drop-shadow(0px 1px 2px rgba(0, 0, 0, 0.3));\n",
              "      fill: #FFFFFF;\n",
              "    }\n",
              "  </style>\n",
              "\n",
              "      <script>\n",
              "        const buttonEl =\n",
              "          document.querySelector('#df-ddb6260a-e250-4e77-b599-6480d3554244 button.colab-df-convert');\n",
              "        buttonEl.style.display =\n",
              "          google.colab.kernel.accessAllowed ? 'block' : 'none';\n",
              "\n",
              "        async function convertToInteractive(key) {\n",
              "          const element = document.querySelector('#df-ddb6260a-e250-4e77-b599-6480d3554244');\n",
              "          const dataTable =\n",
              "            await google.colab.kernel.invokeFunction('convertToInteractive',\n",
              "                                                     [key], {});\n",
              "          if (!dataTable) return;\n",
              "\n",
              "          const docLinkHtml = 'Like what you see? Visit the ' +\n",
              "            '<a target=\"_blank\" href=https://colab.research.google.com/notebooks/data_table.ipynb>data table notebook</a>'\n",
              "            + ' to learn more about interactive tables.';\n",
              "          element.innerHTML = '';\n",
              "          dataTable['output_type'] = 'display_data';\n",
              "          await google.colab.output.renderOutput(dataTable, element);\n",
              "          const docLink = document.createElement('div');\n",
              "          docLink.innerHTML = docLinkHtml;\n",
              "          element.appendChild(docLink);\n",
              "        }\n",
              "      </script>\n",
              "    </div>\n",
              "  </div>\n",
              "  "
            ]
          },
          "metadata": {},
          "execution_count": 53
        }
      ]
    },
    {
      "cell_type": "markdown",
      "source": [
        "Insight we can get from these 3 plots, after dropping outliers is\n",
        "\n",
        "\n",
        "1.   All customers buy only 1 time\n",
        "2.   Customers recency scores are varies between 0 - 600\n",
        "\n"
      ],
      "metadata": {
        "id": "C1bHCHt4TDzi"
      }
    },
    {
      "cell_type": "markdown",
      "source": [
        "## RFM Segmentation using Kmeans"
      ],
      "metadata": {
        "id": "GY3N7x_w-j2j"
      }
    },
    {
      "cell_type": "markdown",
      "source": [
        "because most customers buy only one time, then we hypothesise there are 3 clusters. \n",
        "1. clustes 1 who only buy one time, \n",
        "2. cluster 2 who do repeat orders, but maybe there is a high risk to churn\n",
        "3. cluster 3 who do repeat orders and they are our promising customers"
      ],
      "metadata": {
        "id": "1VJI9TvCR7mI"
      }
    },
    {
      "cell_type": "code",
      "source": [
        "def k_means_group(data, n_clusters, random_state, asc=False, log_transf=False, standard_tranf=False):\n",
        "    \n",
        "    data_temp = data.copy()\n",
        "    if log_transf:\n",
        "        data_temp = np.log(data_temp) + 1\n",
        "        \n",
        "    if standard_tranf:\n",
        "        scaler = StandardScaler()\n",
        "        scaler = scaler.fit(data_temp)\n",
        "        data_temp = scaler.transform(data_temp)\n",
        "        \n",
        "    kmeans_sel = KMeans(n_clusters=n_clusters, random_state=random_state).fit(data_temp)\n",
        "    \n",
        "    cluster_group = data.assign(cluster = kmeans_sel.labels_)\n",
        "    \n",
        "    mean_group = cluster_group.groupby('cluster').mean().reset_index()\n",
        "    mean_group = mean_group.sort_values(by=mean_group.columns[1],ascending=asc)\n",
        "    mean_group['cluster_set'] = [i for i in range(n_clusters, 0, -1) ]\n",
        "    \n",
        "    cluster_map = mean_group.set_index('cluster').to_dict()['cluster_set']\n",
        "    \n",
        "    return cluster_group['cluster'].map(cluster_map)"
      ],
      "metadata": {
        "id": "kso9DBjBgeIn"
      },
      "execution_count": 56,
      "outputs": []
    },
    {
      "cell_type": "code",
      "source": [
        "r_labels = k_means_group(rfm_data[['recency']],3,1,asc=True)\n",
        "f_labels = k_means_group(rfm_data[['frequency']],3,1)\n",
        "m_labels = k_means_group(rfm_data[['monetary']],3,1)\n",
        "\n",
        "rfm_data = rfm_data.assign(R = r_labels, F = f_labels, M = m_labels)"
      ],
      "metadata": {
        "id": "p-z0QRxngg8G"
      },
      "execution_count": 57,
      "outputs": []
    },
    {
      "cell_type": "code",
      "source": [
        "rfm_data.groupby('R')['recency'].describe()"
      ],
      "metadata": {
        "colab": {
          "base_uri": "https://localhost:8080/",
          "height": 175
        },
        "id": "JYjYHQQTg2mZ",
        "outputId": "172d7f9c-fee6-435d-b455-f7eea8d2329f"
      },
      "execution_count": 58,
      "outputs": [
        {
          "output_type": "execute_result",
          "data": {
            "text/plain": [
              "     count        mean        std    min    25%    50%    75%    max\n",
              "R                                                                   \n",
              "1  19448.0  444.200843  62.833205  350.0  391.0  438.0  490.0  695.0\n",
              "2  28621.0  254.335418  49.273938  171.0  212.0  257.0  291.0  349.0\n",
              "3  28826.0   86.502706  50.240299    1.0   38.0   87.0  131.0  170.0"
            ],
            "text/html": [
              "\n",
              "  <div id=\"df-947057c2-c628-4e21-9759-7a7c23db381c\">\n",
              "    <div class=\"colab-df-container\">\n",
              "      <div>\n",
              "<style scoped>\n",
              "    .dataframe tbody tr th:only-of-type {\n",
              "        vertical-align: middle;\n",
              "    }\n",
              "\n",
              "    .dataframe tbody tr th {\n",
              "        vertical-align: top;\n",
              "    }\n",
              "\n",
              "    .dataframe thead th {\n",
              "        text-align: right;\n",
              "    }\n",
              "</style>\n",
              "<table border=\"1\" class=\"dataframe\">\n",
              "  <thead>\n",
              "    <tr style=\"text-align: right;\">\n",
              "      <th></th>\n",
              "      <th>count</th>\n",
              "      <th>mean</th>\n",
              "      <th>std</th>\n",
              "      <th>min</th>\n",
              "      <th>25%</th>\n",
              "      <th>50%</th>\n",
              "      <th>75%</th>\n",
              "      <th>max</th>\n",
              "    </tr>\n",
              "    <tr>\n",
              "      <th>R</th>\n",
              "      <th></th>\n",
              "      <th></th>\n",
              "      <th></th>\n",
              "      <th></th>\n",
              "      <th></th>\n",
              "      <th></th>\n",
              "      <th></th>\n",
              "      <th></th>\n",
              "    </tr>\n",
              "  </thead>\n",
              "  <tbody>\n",
              "    <tr>\n",
              "      <th>1</th>\n",
              "      <td>19448.0</td>\n",
              "      <td>444.200843</td>\n",
              "      <td>62.833205</td>\n",
              "      <td>350.0</td>\n",
              "      <td>391.0</td>\n",
              "      <td>438.0</td>\n",
              "      <td>490.0</td>\n",
              "      <td>695.0</td>\n",
              "    </tr>\n",
              "    <tr>\n",
              "      <th>2</th>\n",
              "      <td>28621.0</td>\n",
              "      <td>254.335418</td>\n",
              "      <td>49.273938</td>\n",
              "      <td>171.0</td>\n",
              "      <td>212.0</td>\n",
              "      <td>257.0</td>\n",
              "      <td>291.0</td>\n",
              "      <td>349.0</td>\n",
              "    </tr>\n",
              "    <tr>\n",
              "      <th>3</th>\n",
              "      <td>28826.0</td>\n",
              "      <td>86.502706</td>\n",
              "      <td>50.240299</td>\n",
              "      <td>1.0</td>\n",
              "      <td>38.0</td>\n",
              "      <td>87.0</td>\n",
              "      <td>131.0</td>\n",
              "      <td>170.0</td>\n",
              "    </tr>\n",
              "  </tbody>\n",
              "</table>\n",
              "</div>\n",
              "      <button class=\"colab-df-convert\" onclick=\"convertToInteractive('df-947057c2-c628-4e21-9759-7a7c23db381c')\"\n",
              "              title=\"Convert this dataframe to an interactive table.\"\n",
              "              style=\"display:none;\">\n",
              "        \n",
              "  <svg xmlns=\"http://www.w3.org/2000/svg\" height=\"24px\"viewBox=\"0 0 24 24\"\n",
              "       width=\"24px\">\n",
              "    <path d=\"M0 0h24v24H0V0z\" fill=\"none\"/>\n",
              "    <path d=\"M18.56 5.44l.94 2.06.94-2.06 2.06-.94-2.06-.94-.94-2.06-.94 2.06-2.06.94zm-11 1L8.5 8.5l.94-2.06 2.06-.94-2.06-.94L8.5 2.5l-.94 2.06-2.06.94zm10 10l.94 2.06.94-2.06 2.06-.94-2.06-.94-.94-2.06-.94 2.06-2.06.94z\"/><path d=\"M17.41 7.96l-1.37-1.37c-.4-.4-.92-.59-1.43-.59-.52 0-1.04.2-1.43.59L10.3 9.45l-7.72 7.72c-.78.78-.78 2.05 0 2.83L4 21.41c.39.39.9.59 1.41.59.51 0 1.02-.2 1.41-.59l7.78-7.78 2.81-2.81c.8-.78.8-2.07 0-2.86zM5.41 20L4 18.59l7.72-7.72 1.47 1.35L5.41 20z\"/>\n",
              "  </svg>\n",
              "      </button>\n",
              "      \n",
              "  <style>\n",
              "    .colab-df-container {\n",
              "      display:flex;\n",
              "      flex-wrap:wrap;\n",
              "      gap: 12px;\n",
              "    }\n",
              "\n",
              "    .colab-df-convert {\n",
              "      background-color: #E8F0FE;\n",
              "      border: none;\n",
              "      border-radius: 50%;\n",
              "      cursor: pointer;\n",
              "      display: none;\n",
              "      fill: #1967D2;\n",
              "      height: 32px;\n",
              "      padding: 0 0 0 0;\n",
              "      width: 32px;\n",
              "    }\n",
              "\n",
              "    .colab-df-convert:hover {\n",
              "      background-color: #E2EBFA;\n",
              "      box-shadow: 0px 1px 2px rgba(60, 64, 67, 0.3), 0px 1px 3px 1px rgba(60, 64, 67, 0.15);\n",
              "      fill: #174EA6;\n",
              "    }\n",
              "\n",
              "    [theme=dark] .colab-df-convert {\n",
              "      background-color: #3B4455;\n",
              "      fill: #D2E3FC;\n",
              "    }\n",
              "\n",
              "    [theme=dark] .colab-df-convert:hover {\n",
              "      background-color: #434B5C;\n",
              "      box-shadow: 0px 1px 3px 1px rgba(0, 0, 0, 0.15);\n",
              "      filter: drop-shadow(0px 1px 2px rgba(0, 0, 0, 0.3));\n",
              "      fill: #FFFFFF;\n",
              "    }\n",
              "  </style>\n",
              "\n",
              "      <script>\n",
              "        const buttonEl =\n",
              "          document.querySelector('#df-947057c2-c628-4e21-9759-7a7c23db381c button.colab-df-convert');\n",
              "        buttonEl.style.display =\n",
              "          google.colab.kernel.accessAllowed ? 'block' : 'none';\n",
              "\n",
              "        async function convertToInteractive(key) {\n",
              "          const element = document.querySelector('#df-947057c2-c628-4e21-9759-7a7c23db381c');\n",
              "          const dataTable =\n",
              "            await google.colab.kernel.invokeFunction('convertToInteractive',\n",
              "                                                     [key], {});\n",
              "          if (!dataTable) return;\n",
              "\n",
              "          const docLinkHtml = 'Like what you see? Visit the ' +\n",
              "            '<a target=\"_blank\" href=https://colab.research.google.com/notebooks/data_table.ipynb>data table notebook</a>'\n",
              "            + ' to learn more about interactive tables.';\n",
              "          element.innerHTML = '';\n",
              "          dataTable['output_type'] = 'display_data';\n",
              "          await google.colab.output.renderOutput(dataTable, element);\n",
              "          const docLink = document.createElement('div');\n",
              "          docLink.innerHTML = docLinkHtml;\n",
              "          element.appendChild(docLink);\n",
              "        }\n",
              "      </script>\n",
              "    </div>\n",
              "  </div>\n",
              "  "
            ]
          },
          "metadata": {},
          "execution_count": 58
        }
      ]
    },
    {
      "cell_type": "markdown",
      "source": [
        "Insight: \n",
        "\n",
        "\n",
        "1.   Cluster 1 has low recency score\n",
        "2.   Cluster 2 has moderate recency score\n",
        "3.  cluster 3 has high recency score\n",
        "\n"
      ],
      "metadata": {
        "id": "ak6SLQijTwH7"
      }
    },
    {
      "cell_type": "code",
      "source": [
        "rfm_data.groupby('F')['frequency'].describe()"
      ],
      "metadata": {
        "colab": {
          "base_uri": "https://localhost:8080/",
          "height": 175
        },
        "id": "W9eJYoYfjtWa",
        "outputId": "40a6ee7c-ec03-4eff-f7fe-750b04307eb4"
      },
      "execution_count": 59,
      "outputs": [
        {
          "output_type": "execute_result",
          "data": {
            "text/plain": [
              "     count      mean       std  min  25%  50%  75%   max\n",
              "F                                                       \n",
              "1  74889.0  1.000000  0.000000  1.0  1.0  1.0  1.0   1.0\n",
              "2   1858.0  2.000000  0.000000  2.0  2.0  2.0  2.0   2.0\n",
              "3    148.0  3.391892  1.254299  3.0  3.0  3.0  3.0  15.0"
            ],
            "text/html": [
              "\n",
              "  <div id=\"df-95eb72bb-3644-434b-8414-2687f5b4f915\">\n",
              "    <div class=\"colab-df-container\">\n",
              "      <div>\n",
              "<style scoped>\n",
              "    .dataframe tbody tr th:only-of-type {\n",
              "        vertical-align: middle;\n",
              "    }\n",
              "\n",
              "    .dataframe tbody tr th {\n",
              "        vertical-align: top;\n",
              "    }\n",
              "\n",
              "    .dataframe thead th {\n",
              "        text-align: right;\n",
              "    }\n",
              "</style>\n",
              "<table border=\"1\" class=\"dataframe\">\n",
              "  <thead>\n",
              "    <tr style=\"text-align: right;\">\n",
              "      <th></th>\n",
              "      <th>count</th>\n",
              "      <th>mean</th>\n",
              "      <th>std</th>\n",
              "      <th>min</th>\n",
              "      <th>25%</th>\n",
              "      <th>50%</th>\n",
              "      <th>75%</th>\n",
              "      <th>max</th>\n",
              "    </tr>\n",
              "    <tr>\n",
              "      <th>F</th>\n",
              "      <th></th>\n",
              "      <th></th>\n",
              "      <th></th>\n",
              "      <th></th>\n",
              "      <th></th>\n",
              "      <th></th>\n",
              "      <th></th>\n",
              "      <th></th>\n",
              "    </tr>\n",
              "  </thead>\n",
              "  <tbody>\n",
              "    <tr>\n",
              "      <th>1</th>\n",
              "      <td>74889.0</td>\n",
              "      <td>1.000000</td>\n",
              "      <td>0.000000</td>\n",
              "      <td>1.0</td>\n",
              "      <td>1.0</td>\n",
              "      <td>1.0</td>\n",
              "      <td>1.0</td>\n",
              "      <td>1.0</td>\n",
              "    </tr>\n",
              "    <tr>\n",
              "      <th>2</th>\n",
              "      <td>1858.0</td>\n",
              "      <td>2.000000</td>\n",
              "      <td>0.000000</td>\n",
              "      <td>2.0</td>\n",
              "      <td>2.0</td>\n",
              "      <td>2.0</td>\n",
              "      <td>2.0</td>\n",
              "      <td>2.0</td>\n",
              "    </tr>\n",
              "    <tr>\n",
              "      <th>3</th>\n",
              "      <td>148.0</td>\n",
              "      <td>3.391892</td>\n",
              "      <td>1.254299</td>\n",
              "      <td>3.0</td>\n",
              "      <td>3.0</td>\n",
              "      <td>3.0</td>\n",
              "      <td>3.0</td>\n",
              "      <td>15.0</td>\n",
              "    </tr>\n",
              "  </tbody>\n",
              "</table>\n",
              "</div>\n",
              "      <button class=\"colab-df-convert\" onclick=\"convertToInteractive('df-95eb72bb-3644-434b-8414-2687f5b4f915')\"\n",
              "              title=\"Convert this dataframe to an interactive table.\"\n",
              "              style=\"display:none;\">\n",
              "        \n",
              "  <svg xmlns=\"http://www.w3.org/2000/svg\" height=\"24px\"viewBox=\"0 0 24 24\"\n",
              "       width=\"24px\">\n",
              "    <path d=\"M0 0h24v24H0V0z\" fill=\"none\"/>\n",
              "    <path d=\"M18.56 5.44l.94 2.06.94-2.06 2.06-.94-2.06-.94-.94-2.06-.94 2.06-2.06.94zm-11 1L8.5 8.5l.94-2.06 2.06-.94-2.06-.94L8.5 2.5l-.94 2.06-2.06.94zm10 10l.94 2.06.94-2.06 2.06-.94-2.06-.94-.94-2.06-.94 2.06-2.06.94z\"/><path d=\"M17.41 7.96l-1.37-1.37c-.4-.4-.92-.59-1.43-.59-.52 0-1.04.2-1.43.59L10.3 9.45l-7.72 7.72c-.78.78-.78 2.05 0 2.83L4 21.41c.39.39.9.59 1.41.59.51 0 1.02-.2 1.41-.59l7.78-7.78 2.81-2.81c.8-.78.8-2.07 0-2.86zM5.41 20L4 18.59l7.72-7.72 1.47 1.35L5.41 20z\"/>\n",
              "  </svg>\n",
              "      </button>\n",
              "      \n",
              "  <style>\n",
              "    .colab-df-container {\n",
              "      display:flex;\n",
              "      flex-wrap:wrap;\n",
              "      gap: 12px;\n",
              "    }\n",
              "\n",
              "    .colab-df-convert {\n",
              "      background-color: #E8F0FE;\n",
              "      border: none;\n",
              "      border-radius: 50%;\n",
              "      cursor: pointer;\n",
              "      display: none;\n",
              "      fill: #1967D2;\n",
              "      height: 32px;\n",
              "      padding: 0 0 0 0;\n",
              "      width: 32px;\n",
              "    }\n",
              "\n",
              "    .colab-df-convert:hover {\n",
              "      background-color: #E2EBFA;\n",
              "      box-shadow: 0px 1px 2px rgba(60, 64, 67, 0.3), 0px 1px 3px 1px rgba(60, 64, 67, 0.15);\n",
              "      fill: #174EA6;\n",
              "    }\n",
              "\n",
              "    [theme=dark] .colab-df-convert {\n",
              "      background-color: #3B4455;\n",
              "      fill: #D2E3FC;\n",
              "    }\n",
              "\n",
              "    [theme=dark] .colab-df-convert:hover {\n",
              "      background-color: #434B5C;\n",
              "      box-shadow: 0px 1px 3px 1px rgba(0, 0, 0, 0.15);\n",
              "      filter: drop-shadow(0px 1px 2px rgba(0, 0, 0, 0.3));\n",
              "      fill: #FFFFFF;\n",
              "    }\n",
              "  </style>\n",
              "\n",
              "      <script>\n",
              "        const buttonEl =\n",
              "          document.querySelector('#df-95eb72bb-3644-434b-8414-2687f5b4f915 button.colab-df-convert');\n",
              "        buttonEl.style.display =\n",
              "          google.colab.kernel.accessAllowed ? 'block' : 'none';\n",
              "\n",
              "        async function convertToInteractive(key) {\n",
              "          const element = document.querySelector('#df-95eb72bb-3644-434b-8414-2687f5b4f915');\n",
              "          const dataTable =\n",
              "            await google.colab.kernel.invokeFunction('convertToInteractive',\n",
              "                                                     [key], {});\n",
              "          if (!dataTable) return;\n",
              "\n",
              "          const docLinkHtml = 'Like what you see? Visit the ' +\n",
              "            '<a target=\"_blank\" href=https://colab.research.google.com/notebooks/data_table.ipynb>data table notebook</a>'\n",
              "            + ' to learn more about interactive tables.';\n",
              "          element.innerHTML = '';\n",
              "          dataTable['output_type'] = 'display_data';\n",
              "          await google.colab.output.renderOutput(dataTable, element);\n",
              "          const docLink = document.createElement('div');\n",
              "          docLink.innerHTML = docLinkHtml;\n",
              "          element.appendChild(docLink);\n",
              "        }\n",
              "      </script>\n",
              "    </div>\n",
              "  </div>\n",
              "  "
            ]
          },
          "metadata": {},
          "execution_count": 59
        }
      ]
    },
    {
      "cell_type": "markdown",
      "source": [
        "As expected, most customers only buy one time"
      ],
      "metadata": {
        "id": "DfNrnt4-UF2V"
      }
    },
    {
      "cell_type": "code",
      "source": [
        "def get_segment(data):\n",
        "    mean_fm = (data['F'] + data['M']) / 2\n",
        "    \n",
        "    if (data['R'] >= 2 ) and (mean_fm >= 2 ):\n",
        "        return 'Potential Loyalist'\n",
        "    if (data['R'] >= 2 ) and (mean_fm < 2):\n",
        "        return 'Customer Needing Attention'\n",
        "    if (data['R'] == 1 ) and (mean_fm >= 0 and mean_fm < 3):\n",
        "        return 'At Risk'\n",
        "    return str(data['R'])+\"_\"+str(mean_fm)"
      ],
      "metadata": {
        "id": "wN1F0nzokBf2"
      },
      "execution_count": 60,
      "outputs": []
    },
    {
      "cell_type": "code",
      "source": [
        "rfm_data['segment'] = rfm_data.apply(get_segment,axis=1)"
      ],
      "metadata": {
        "id": "9UZA2WBZkDrp"
      },
      "execution_count": 61,
      "outputs": []
    },
    {
      "cell_type": "code",
      "source": [
        "plt.figure(figsize=(10,5))\n",
        "percentage = (rfm_data['segment'].value_counts(normalize=True)* 100).reset_index(name='percentage')\n",
        "g = sns.barplot(x=percentage['percentage'],y=percentage['index'], data=percentage,palette=\"GnBu_d\")\n",
        "sns.despine(bottom = True, left = True)\n",
        "for i, v in enumerate(percentage['percentage']):\n",
        "    g.text(v,i+0.20,\"  {:.2f}\".format(v)+\"%\", color='black', ha=\"left\")\n",
        "g.set_ylabel('Segmentation')\n",
        "g.set(xticks=[])\n",
        "plt.show()"
      ],
      "metadata": {
        "colab": {
          "base_uri": "https://localhost:8080/",
          "height": 317
        },
        "id": "rumbzYAEkF5i",
        "outputId": "6bd4b89f-345a-4136-c4f2-f7226eb6c34d"
      },
      "execution_count": 62,
      "outputs": [
        {
          "output_type": "display_data",
          "data": {
            "text/plain": [
              "<Figure size 720x360 with 1 Axes>"
            ],
            "image/png": "[encoded data removed]"
          },
          "metadata": {}
        }
      ]
    },
    {
      "cell_type": "markdown",
      "source": [
        "# Task 2 : predict CLV, Probability to alive, and probability to purchase"
      ],
      "metadata": {
        "id": "XDFdXxRf-3CN"
      }
    },
    {
      "cell_type": "markdown",
      "source": [
        "## Frequency/Recency Analysis Using the BG/NBD Model"
      ],
      "metadata": {
        "id": "ayVpIQ1erPA4"
      }
    },
    {
      "cell_type": "code",
      "source": [
        "orders_customers.info()"
      ],
      "metadata": {
        "id": "MUMUQyX8rxcH",
        "colab": {
          "base_uri": "https://localhost:8080/"
        },
        "outputId": "7c5cc33e-3307-4116-c260-4d0774479bb7"
      },
      "execution_count": 63,
      "outputs": [
        {
          "output_type": "stream",
          "name": "stdout",
          "text": [
            "<class 'pandas.core.frame.DataFrame'>\n",
            "Int64Index: 79107 entries, 0 to 79116\n",
            "Data columns (total 16 columns):\n",
            " #   Column                         Non-Null Count  Dtype         \n",
            "---  ------                         --------------  -----         \n",
            " 0   customer_id                    79107 non-null  object        \n",
            " 1   customer_unique_id             79107 non-null  object        \n",
            " 2   customer_zip_code_prefix       79107 non-null  int64         \n",
            " 3   customer_city                  79107 non-null  object        \n",
            " 4   customer_state                 79107 non-null  object        \n",
            " 5   order_id                       79107 non-null  object        \n",
            " 6   order_status                   79107 non-null  object        \n",
            " 7   order_purchase_timestamp       79107 non-null  datetime64[ns]\n",
            " 8   order_approved_at              79107 non-null  datetime64[ns]\n",
            " 9   order_delivered_carrier_date   79107 non-null  datetime64[ns]\n",
            " 10  order_delivered_customer_date  79107 non-null  datetime64[ns]\n",
            " 11  order_estimated_delivery_date  79107 non-null  datetime64[ns]\n",
            " 12  diff_delivery_days             79107 non-null  float64       \n",
            " 13  price                          79107 non-null  float64       \n",
            " 14  freight_value                  79107 non-null  float64       \n",
            " 15  shipping_limit_date            79107 non-null  object        \n",
            "dtypes: datetime64[ns](5), float64(3), int64(1), object(7)\n",
            "memory usage: 10.3+ MB\n"
          ]
        }
      ]
    },
    {
      "cell_type": "code",
      "source": [
        "data = orders_customers[[\"customer_unique_id\",\"order_purchase_timestamp\",\"price\"]]"
      ],
      "metadata": {
        "id": "yEFUUZzfrz28"
      },
      "execution_count": 64,
      "outputs": []
    },
    {
      "cell_type": "code",
      "source": [
        "df_rfm_lifetime = summary_data_from_transaction_data(\n",
        "    data, \n",
        "    'customer_unique_id', \n",
        "    'order_purchase_timestamp', \n",
        "    monetary_value_col='price', \n",
        "\n",
        ")"
      ],
      "metadata": {
        "id": "Dmu5qyc_rpsn"
      },
      "execution_count": 65,
      "outputs": []
    },
    {
      "cell_type": "code",
      "source": [
        "df = df_rfm_lifetime.query('frequency > 0')"
      ],
      "metadata": {
        "id": "YOxzD2odovVO"
      },
      "execution_count": 66,
      "outputs": []
    },
    {
      "cell_type": "code",
      "source": [
        "df.describe()"
      ],
      "metadata": {
        "id": "FlbZtE3sugZA",
        "colab": {
          "base_uri": "https://localhost:8080/",
          "height": 300
        },
        "outputId": "4dcd6f5e-83ec-424c-8321-ce4706a8d50e"
      },
      "execution_count": 67,
      "outputs": [
        {
          "output_type": "execute_result",
          "data": {
            "text/plain": [
              "         frequency      recency            T  monetary_value\n",
              "count  1452.000000  1452.000000  1452.000000     1452.000000\n",
              "mean      1.104683   119.011019   311.675620      123.975967\n",
              "std       0.517168   115.786460   139.346111      140.436767\n",
              "min       1.000000     1.000000     7.000000        5.990000\n",
              "25%       1.000000    24.000000   204.000000       47.572500\n",
              "50%       1.000000    79.000000   323.000000       89.725000\n",
              "75%       1.000000   185.250000   423.000000      149.111250\n",
              "max      14.000000   633.000000   695.000000     1599.000000"
            ],
            "text/html": [
              "\n",
              "  <div id=\"df-c78f226d-88df-4b93-bc34-5926feb6d56a\">\n",
              "    <div class=\"colab-df-container\">\n",
              "      <div>\n",
              "<style scoped>\n",
              "    .dataframe tbody tr th:only-of-type {\n",
              "        vertical-align: middle;\n",
              "    }\n",
              "\n",
              "    .dataframe tbody tr th {\n",
              "        vertical-align: top;\n",
              "    }\n",
              "\n",
              "    .dataframe thead th {\n",
              "        text-align: right;\n",
              "    }\n",
              "</style>\n",
              "<table border=\"1\" class=\"dataframe\">\n",
              "  <thead>\n",
              "    <tr style=\"text-align: right;\">\n",
              "      <th></th>\n",
              "      <th>frequency</th>\n",
              "      <th>recency</th>\n",
              "      <th>T</th>\n",
              "      <th>monetary_value</th>\n",
              "    </tr>\n",
              "  </thead>\n",
              "  <tbody>\n",
              "    <tr>\n",
              "      <th>count</th>\n",
              "      <td>1452.000000</td>\n",
              "      <td>1452.000000</td>\n",
              "      <td>1452.000000</td>\n",
              "      <td>1452.000000</td>\n",
              "    </tr>\n",
              "    <tr>\n",
              "      <th>mean</th>\n",
              "      <td>1.104683</td>\n",
              "      <td>119.011019</td>\n",
              "      <td>311.675620</td>\n",
              "      <td>123.975967</td>\n",
              "    </tr>\n",
              "    <tr>\n",
              "      <th>std</th>\n",
              "      <td>0.517168</td>\n",
              "      <td>115.786460</td>\n",
              "      <td>139.346111</td>\n",
              "      <td>140.436767</td>\n",
              "    </tr>\n",
              "    <tr>\n",
              "      <th>min</th>\n",
              "      <td>1.000000</td>\n",
              "      <td>1.000000</td>\n",
              "      <td>7.000000</td>\n",
              "      <td>5.990000</td>\n",
              "    </tr>\n",
              "    <tr>\n",
              "      <th>25%</th>\n",
              "      <td>1.000000</td>\n",
              "      <td>24.000000</td>\n",
              "      <td>204.000000</td>\n",
              "      <td>47.572500</td>\n",
              "    </tr>\n",
              "    <tr>\n",
              "      <th>50%</th>\n",
              "      <td>1.000000</td>\n",
              "      <td>79.000000</td>\n",
              "      <td>323.000000</td>\n",
              "      <td>89.725000</td>\n",
              "    </tr>\n",
              "    <tr>\n",
              "      <th>75%</th>\n",
              "      <td>1.000000</td>\n",
              "      <td>185.250000</td>\n",
              "      <td>423.000000</td>\n",
              "      <td>149.111250</td>\n",
              "    </tr>\n",
              "    <tr>\n",
              "      <th>max</th>\n",
              "      <td>14.000000</td>\n",
              "      <td>633.000000</td>\n",
              "      <td>695.000000</td>\n",
              "      <td>1599.000000</td>\n",
              "    </tr>\n",
              "  </tbody>\n",
              "</table>\n",
              "</div>\n",
              "      <button class=\"colab-df-convert\" onclick=\"convertToInteractive('df-c78f226d-88df-4b93-bc34-5926feb6d56a')\"\n",
              "              title=\"Convert this dataframe to an interactive table.\"\n",
              "              style=\"display:none;\">\n",
              "        \n",
              "  <svg xmlns=\"http://www.w3.org/2000/svg\" height=\"24px\"viewBox=\"0 0 24 24\"\n",
              "       width=\"24px\">\n",
              "    <path d=\"M0 0h24v24H0V0z\" fill=\"none\"/>\n",
              "    <path d=\"M18.56 5.44l.94 2.06.94-2.06 2.06-.94-2.06-.94-.94-2.06-.94 2.06-2.06.94zm-11 1L8.5 8.5l.94-2.06 2.06-.94-2.06-.94L8.5 2.5l-.94 2.06-2.06.94zm10 10l.94 2.06.94-2.06 2.06-.94-2.06-.94-.94-2.06-.94 2.06-2.06.94z\"/><path d=\"M17.41 7.96l-1.37-1.37c-.4-.4-.92-.59-1.43-.59-.52 0-1.04.2-1.43.59L10.3 9.45l-7.72 7.72c-.78.78-.78 2.05 0 2.83L4 21.41c.39.39.9.59 1.41.59.51 0 1.02-.2 1.41-.59l7.78-7.78 2.81-2.81c.8-.78.8-2.07 0-2.86zM5.41 20L4 18.59l7.72-7.72 1.47 1.35L5.41 20z\"/>\n",
              "  </svg>\n",
              "      </button>\n",
              "      \n",
              "  <style>\n",
              "    .colab-df-container {\n",
              "      display:flex;\n",
              "      flex-wrap:wrap;\n",
              "      gap: 12px;\n",
              "    }\n",
              "\n",
              "    .colab-df-convert {\n",
              "      background-color: #E8F0FE;\n",
              "      border: none;\n",
              "      border-radius: 50%;\n",
              "      cursor: pointer;\n",
              "      display: none;\n",
              "      fill: #1967D2;\n",
              "      height: 32px;\n",
              "      padding: 0 0 0 0;\n",
              "      width: 32px;\n",
              "    }\n",
              "\n",
              "    .colab-df-convert:hover {\n",
              "      background-color: #E2EBFA;\n",
              "      box-shadow: 0px 1px 2px rgba(60, 64, 67, 0.3), 0px 1px 3px 1px rgba(60, 64, 67, 0.15);\n",
              "      fill: #174EA6;\n",
              "    }\n",
              "\n",
              "    [theme=dark] .colab-df-convert {\n",
              "      background-color: #3B4455;\n",
              "      fill: #D2E3FC;\n",
              "    }\n",
              "\n",
              "    [theme=dark] .colab-df-convert:hover {\n",
              "      background-color: #434B5C;\n",
              "      box-shadow: 0px 1px 3px 1px rgba(0, 0, 0, 0.15);\n",
              "      filter: drop-shadow(0px 1px 2px rgba(0, 0, 0, 0.3));\n",
              "      fill: #FFFFFF;\n",
              "    }\n",
              "  </style>\n",
              "\n",
              "      <script>\n",
              "        const buttonEl =\n",
              "          document.querySelector('#df-c78f226d-88df-4b93-bc34-5926feb6d56a button.colab-df-convert');\n",
              "        buttonEl.style.display =\n",
              "          google.colab.kernel.accessAllowed ? 'block' : 'none';\n",
              "\n",
              "        async function convertToInteractive(key) {\n",
              "          const element = document.querySelector('#df-c78f226d-88df-4b93-bc34-5926feb6d56a');\n",
              "          const dataTable =\n",
              "            await google.colab.kernel.invokeFunction('convertToInteractive',\n",
              "                                                     [key], {});\n",
              "          if (!dataTable) return;\n",
              "\n",
              "          const docLinkHtml = 'Like what you see? Visit the ' +\n",
              "            '<a target=\"_blank\" href=https://colab.research.google.com/notebooks/data_table.ipynb>data table notebook</a>'\n",
              "            + ' to learn more about interactive tables.';\n",
              "          element.innerHTML = '';\n",
              "          dataTable['output_type'] = 'display_data';\n",
              "          await google.colab.output.renderOutput(dataTable, element);\n",
              "          const docLink = document.createElement('div');\n",
              "          docLink.innerHTML = docLinkHtml;\n",
              "          element.appendChild(docLink);\n",
              "        }\n",
              "      </script>\n",
              "    </div>\n",
              "  </div>\n",
              "  "
            ]
          },
          "metadata": {},
          "execution_count": 67
        }
      ]
    },
    {
      "cell_type": "code",
      "source": [
        "bgf = BetaGeoFitter(penalizer_coef=0.0)\n",
        "bgf.fit(df['frequency'], df['recency'], df['T'])"
      ],
      "metadata": {
        "id": "CJQDXl8Do6yv",
        "colab": {
          "base_uri": "https://localhost:8080/"
        },
        "outputId": "c0f8f2ba-0d86-420c-c540-0a53f89776f3"
      },
      "execution_count": 68,
      "outputs": [
        {
          "output_type": "execute_result",
          "data": {
            "text/plain": [
              "<lifetimes.BetaGeoFitter: fitted with 1452 subjects, a: 2.52, alpha: 2133.28, b: 0.30, r: 20.06>"
            ]
          },
          "metadata": {},
          "execution_count": 68
        }
      ]
    },
    {
      "cell_type": "code",
      "source": [
        "plot_period_transactions(bgf, max_frequency=30)"
      ],
      "metadata": {
        "id": "9IUWhGDqqONq",
        "colab": {
          "base_uri": "https://localhost:8080/",
          "height": 404
        },
        "outputId": "824aa147-4f58-4bdb-f0fa-359fb898f61f"
      },
      "execution_count": 69,
      "outputs": [
        {
          "output_type": "execute_result",
          "data": {
            "text/plain": [
              "<matplotlib.axes._subplots.AxesSubplot at 0x7f9d9e9fb550>"
            ]
          },
          "metadata": {},
          "execution_count": 69
        },
        {
          "output_type": "display_data",
          "data": {
            "text/plain": [
              "<Figure size 576x396 with 1 Axes>"
            ],
            "image/png": "[encoded data removed]"
          },
          "metadata": {}
        }
      ]
    },
    {
      "cell_type": "markdown",
      "source": [
        "We can see that our actual data and our simulated data line up well. \n",
        "So, we can continue on with our analysis. We now partition the dataset into a calibration period dataset and a holdout dataset. This is important as we want to test how our model performs on data not yet seen (just like cross-validation in machine learning practice)."
      ],
      "metadata": {
        "id": "JyU_mvCiRaZK"
      }
    },
    {
      "cell_type": "code",
      "source": [
        "print(data[\"order_purchase_timestamp\"].max())\n",
        "print(data[\"order_purchase_timestamp\"].min())"
      ],
      "metadata": {
        "id": "fgetZk-4qb3p",
        "colab": {
          "base_uri": "https://localhost:8080/"
        },
        "outputId": "d6acb424-082b-4cbf-9eaa-932077f52862"
      },
      "execution_count": 70,
      "outputs": [
        {
          "output_type": "stream",
          "name": "stdout",
          "text": [
            "2018-08-29 15:00:37\n",
            "2016-10-03 09:44:50\n"
          ]
        }
      ]
    },
    {
      "cell_type": "code",
      "source": [
        "pd.get_option(\"display.max_columns\")\n",
        "summary_cal_holdout = calibration_and_holdout_data(\n",
        "    data, 'customer_unique_id', \n",
        "    'order_purchase_timestamp', \n",
        "    calibration_period_end='2018-02-08',\n",
        "    observation_period_end='2018-05-09'\n",
        ")"
      ],
      "metadata": {
        "id": "LAgOs9AhqWPo"
      },
      "execution_count": 71,
      "outputs": []
    },
    {
      "cell_type": "code",
      "source": [
        "bgf = BetaGeoFitter(penalizer_coef=0)"
      ],
      "metadata": {
        "id": "-Zst08XnqwiQ"
      },
      "execution_count": 72,
      "outputs": []
    },
    {
      "cell_type": "code",
      "source": [
        "bgf.fit(summary_cal_holdout['frequency_cal'], summary_cal_holdout['recency_cal'], summary_cal_holdout['T_cal'])\n",
        "plot_calibration_purchases_vs_holdout_purchases(bgf, summary_cal_holdout)"
      ],
      "metadata": {
        "id": "4IfBnzlxquVW",
        "colab": {
          "base_uri": "https://localhost:8080/",
          "height": 394
        },
        "outputId": "cc3ebb73-da62-4804-ac50-d5f2d0377dd0"
      },
      "execution_count": 73,
      "outputs": [
        {
          "output_type": "execute_result",
          "data": {
            "text/plain": [
              "<matplotlib.axes._subplots.AxesSubplot at 0x7f9d97cbd4d0>"
            ]
          },
          "metadata": {},
          "execution_count": 73
        },
        {
          "output_type": "display_data",
          "data": {
            "text/plain": [
              "<Figure size 576x396 with 1 Axes>"
            ],
            "image/png": "[encoded data removed]"
          },
          "metadata": {}
        }
      ]
    },
    {
      "cell_type": "markdown",
      "source": [
        "In this plot, we separate the data into both a in-sample (calibration) and validation (holdout) period. The sample period consists the beginning to 2018–02–08; the validation period spans from 2018–02–09 to 2018–05–09. The plot groups all customers in the calibration period by their number of repeat purchases (x-axis) and then averages over their repeat purchases in the holdout period (y-axis). The orange and blue line presents the model prediction and actual result of the y-axis respectively. As we can see, our model is able to predict the customer base’s behaviour out of the sample, however the model over-estimates after 3 purchase. But our model still capture the pattern of transaction"
      ],
      "metadata": {
        "id": "TQsG4CL_Ri8q"
      }
    },
    {
      "cell_type": "code",
      "source": [
        ""
      ],
      "metadata": {
        "id": "OivAcwWHR78u"
      },
      "execution_count": null,
      "outputs": []
    },
    {
      "cell_type": "markdown",
      "source": [
        "Predict probability to alive and purchase for next 7,14,30,60 days"
      ],
      "metadata": {
        "id": "b2kH9xyDR2Pq"
      }
    },
    {
      "cell_type": "code",
      "source": [
        "# pick period\n",
        "all_t = [7,14,30,60]\n",
        "#predict probability alive\n",
        "df['prob_alive'] = bgf.conditional_probability_alive(df['frequency'], df['recency'], df['T'])\n",
        "# predict purchases\n",
        "for t in all_t:\n",
        "  df['predicted_purchases_next_'+str(t)+'_days'] = bgf.conditional_expected_number_of_purchases_up_to_time(\n",
        "      t, df['frequency'], df['recency'], df['T'])\n",
        "  \n"
      ],
      "metadata": {
        "id": "8p8BRK9EzQMY"
      },
      "execution_count": 74,
      "outputs": []
    },
    {
      "cell_type": "markdown",
      "source": [
        "## The Gamma-Gamma model and the independence assumption\n",
        "\n",
        "\n",
        "Gamma-Gamma model is based on the assumption that the number of transactions does not depend on their monetary value. The frequency and monetary value are not correlated if the output is close to zero. The Gamma-Gamma submodel, in fact, assumes that there is no relationship between the monetary value and the purchase frequency. In practice we need to check whether the Pearson correlation between the two vectors is close to 0 in order to use this model."
      ],
      "metadata": {
        "id": "J2dytlEIz1mD"
      }
    },
    {
      "cell_type": "code",
      "source": [
        "summary = df[df['frequency']>0]"
      ],
      "metadata": {
        "id": "uqDgnuHxz8e_"
      },
      "execution_count": 75,
      "outputs": []
    },
    {
      "cell_type": "code",
      "source": [
        "df.describe()"
      ],
      "metadata": {
        "id": "EByfMOk60n9M",
        "colab": {
          "base_uri": "https://localhost:8080/",
          "height": 0
        },
        "outputId": "8462f628-53ce-4440-f42a-834b1ff66538"
      },
      "execution_count": 76,
      "outputs": [
        {
          "output_type": "execute_result",
          "data": {
            "text/plain": [
              "         frequency      recency            T  monetary_value   prob_alive  \\\n",
              "count  1452.000000  1452.000000  1452.000000     1452.000000  1452.000000   \n",
              "mean      1.104683   119.011019   311.675620      123.975967     0.082200   \n",
              "std       0.517168   115.786460   139.346111      140.436767     0.065883   \n",
              "min       1.000000     1.000000     7.000000        5.990000     0.010747   \n",
              "25%       1.000000    24.000000   204.000000       47.572500     0.041009   \n",
              "50%       1.000000    79.000000   323.000000       89.725000     0.070022   \n",
              "75%       1.000000   185.250000   423.000000      149.111250     0.106158   \n",
              "max      14.000000   633.000000   695.000000     1599.000000     0.842105   \n",
              "\n",
              "       predicted_purchases_next_7_days  predicted_purchases_next_14_days  \\\n",
              "count                      1452.000000                       1452.000000   \n",
              "mean                          0.002575                          0.005051   \n",
              "std                           0.005739                          0.011277   \n",
              "min                           0.000164                          0.000326   \n",
              "25%                           0.000769                          0.001519   \n",
              "50%                           0.001453                          0.002870   \n",
              "75%                           0.002494                          0.004921   \n",
              "max                           0.165955                          0.327807   \n",
              "\n",
              "       predicted_purchases_next_30_days  predicted_purchases_next_60_days  \n",
              "count                       1452.000000                       1452.000000  \n",
              "mean                           0.010382                          0.019355  \n",
              "std                            0.023262                          0.043622  \n",
              "min                            0.000689                          0.001344  \n",
              "25%                            0.003184                          0.006100  \n",
              "50%                            0.005965                          0.011306  \n",
              "75%                            0.010103                          0.019018  \n",
              "max                            0.683155                          1.299490  "
            ],
            "text/html": [
              "\n",
              "  <div id=\"df-e4bb941e-02f7-453f-a818-3ac5be5054aa\">\n",
              "    <div class=\"colab-df-container\">\n",
              "      <div>\n",
              "<style scoped>\n",
              "    .dataframe tbody tr th:only-of-type {\n",
              "        vertical-align: middle;\n",
              "    }\n",
              "\n",
              "    .dataframe tbody tr th {\n",
              "        vertical-align: top;\n",
              "    }\n",
              "\n",
              "    .dataframe thead th {\n",
              "        text-align: right;\n",
              "    }\n",
              "</style>\n",
              "<table border=\"1\" class=\"dataframe\">\n",
              "  <thead>\n",
              "    <tr style=\"text-align: right;\">\n",
              "      <th></th>\n",
              "      <th>frequency</th>\n",
              "      <th>recency</th>\n",
              "      <th>T</th>\n",
              "      <th>monetary_value</th>\n",
              "      <th>prob_alive</th>\n",
              "      <th>predicted_purchases_next_7_days</th>\n",
              "      <th>predicted_purchases_next_14_days</th>\n",
              "      <th>predicted_purchases_next_30_days</th>\n",
              "      <th>predicted_purchases_next_60_days</th>\n",
              "    </tr>\n",
              "  </thead>\n",
              "  <tbody>\n",
              "    <tr>\n",
              "      <th>count</th>\n",
              "      <td>1452.000000</td>\n",
              "      <td>1452.000000</td>\n",
              "      <td>1452.000000</td>\n",
              "      <td>1452.000000</td>\n",
              "      <td>1452.000000</td>\n",
              "      <td>1452.000000</td>\n",
              "      <td>1452.000000</td>\n",
              "      <td>1452.000000</td>\n",
              "      <td>1452.000000</td>\n",
              "    </tr>\n",
              "    <tr>\n",
              "      <th>mean</th>\n",
              "      <td>1.104683</td>\n",
              "      <td>119.011019</td>\n",
              "      <td>311.675620</td>\n",
              "      <td>123.975967</td>\n",
              "      <td>0.082200</td>\n",
              "      <td>0.002575</td>\n",
              "      <td>0.005051</td>\n",
              "      <td>0.010382</td>\n",
              "      <td>0.019355</td>\n",
              "    </tr>\n",
              "    <tr>\n",
              "      <th>std</th>\n",
              "      <td>0.517168</td>\n",
              "      <td>115.786460</td>\n",
              "      <td>139.346111</td>\n",
              "      <td>140.436767</td>\n",
              "      <td>0.065883</td>\n",
              "      <td>0.005739</td>\n",
              "      <td>0.011277</td>\n",
              "      <td>0.023262</td>\n",
              "      <td>0.043622</td>\n",
              "    </tr>\n",
              "    <tr>\n",
              "      <th>min</th>\n",
              "      <td>1.000000</td>\n",
              "      <td>1.000000</td>\n",
              "      <td>7.000000</td>\n",
              "      <td>5.990000</td>\n",
              "      <td>0.010747</td>\n",
              "      <td>0.000164</td>\n",
              "      <td>0.000326</td>\n",
              "      <td>0.000689</td>\n",
              "      <td>0.001344</td>\n",
              "    </tr>\n",
              "    <tr>\n",
              "      <th>25%</th>\n",
              "      <td>1.000000</td>\n",
              "      <td>24.000000</td>\n",
              "      <td>204.000000</td>\n",
              "      <td>47.572500</td>\n",
              "      <td>0.041009</td>\n",
              "      <td>0.000769</td>\n",
              "      <td>0.001519</td>\n",
              "      <td>0.003184</td>\n",
              "      <td>0.006100</td>\n",
              "    </tr>\n",
              "    <tr>\n",
              "      <th>50%</th>\n",
              "      <td>1.000000</td>\n",
              "      <td>79.000000</td>\n",
              "      <td>323.000000</td>\n",
              "      <td>89.725000</td>\n",
              "      <td>0.070022</td>\n",
              "      <td>0.001453</td>\n",
              "      <td>0.002870</td>\n",
              "      <td>0.005965</td>\n",
              "      <td>0.011306</td>\n",
              "    </tr>\n",
              "    <tr>\n",
              "      <th>75%</th>\n",
              "      <td>1.000000</td>\n",
              "      <td>185.250000</td>\n",
              "      <td>423.000000</td>\n",
              "      <td>149.111250</td>\n",
              "      <td>0.106158</td>\n",
              "      <td>0.002494</td>\n",
              "      <td>0.004921</td>\n",
              "      <td>0.010103</td>\n",
              "      <td>0.019018</td>\n",
              "    </tr>\n",
              "    <tr>\n",
              "      <th>max</th>\n",
              "      <td>14.000000</td>\n",
              "      <td>633.000000</td>\n",
              "      <td>695.000000</td>\n",
              "      <td>1599.000000</td>\n",
              "      <td>0.842105</td>\n",
              "      <td>0.165955</td>\n",
              "      <td>0.327807</td>\n",
              "      <td>0.683155</td>\n",
              "      <td>1.299490</td>\n",
              "    </tr>\n",
              "  </tbody>\n",
              "</table>\n",
              "</div>\n",
              "      <button class=\"colab-df-convert\" onclick=\"convertToInteractive('df-e4bb941e-02f7-453f-a818-3ac5be5054aa')\"\n",
              "              title=\"Convert this dataframe to an interactive table.\"\n",
              "              style=\"display:none;\">\n",
              "        \n",
              "  <svg xmlns=\"http://www.w3.org/2000/svg\" height=\"24px\"viewBox=\"0 0 24 24\"\n",
              "       width=\"24px\">\n",
              "    <path d=\"M0 0h24v24H0V0z\" fill=\"none\"/>\n",
              "    <path d=\"M18.56 5.44l.94 2.06.94-2.06 2.06-.94-2.06-.94-.94-2.06-.94 2.06-2.06.94zm-11 1L8.5 8.5l.94-2.06 2.06-.94-2.06-.94L8.5 2.5l-.94 2.06-2.06.94zm10 10l.94 2.06.94-2.06 2.06-.94-2.06-.94-.94-2.06-.94 2.06-2.06.94z\"/><path d=\"M17.41 7.96l-1.37-1.37c-.4-.4-.92-.59-1.43-.59-.52 0-1.04.2-1.43.59L10.3 9.45l-7.72 7.72c-.78.78-.78 2.05 0 2.83L4 21.41c.39.39.9.59 1.41.59.51 0 1.02-.2 1.41-.59l7.78-7.78 2.81-2.81c.8-.78.8-2.07 0-2.86zM5.41 20L4 18.59l7.72-7.72 1.47 1.35L5.41 20z\"/>\n",
              "  </svg>\n",
              "      </button>\n",
              "      \n",
              "  <style>\n",
              "    .colab-df-container {\n",
              "      display:flex;\n",
              "      flex-wrap:wrap;\n",
              "      gap: 12px;\n",
              "    }\n",
              "\n",
              "    .colab-df-convert {\n",
              "      background-color: #E8F0FE;\n",
              "      border: none;\n",
              "      border-radius: 50%;\n",
              "      cursor: pointer;\n",
              "      display: none;\n",
              "      fill: #1967D2;\n",
              "      height: 32px;\n",
              "      padding: 0 0 0 0;\n",
              "      width: 32px;\n",
              "    }\n",
              "\n",
              "    .colab-df-convert:hover {\n",
              "      background-color: #E2EBFA;\n",
              "      box-shadow: 0px 1px 2px rgba(60, 64, 67, 0.3), 0px 1px 3px 1px rgba(60, 64, 67, 0.15);\n",
              "      fill: #174EA6;\n",
              "    }\n",
              "\n",
              "    [theme=dark] .colab-df-convert {\n",
              "      background-color: #3B4455;\n",
              "      fill: #D2E3FC;\n",
              "    }\n",
              "\n",
              "    [theme=dark] .colab-df-convert:hover {\n",
              "      background-color: #434B5C;\n",
              "      box-shadow: 0px 1px 3px 1px rgba(0, 0, 0, 0.15);\n",
              "      filter: drop-shadow(0px 1px 2px rgba(0, 0, 0, 0.3));\n",
              "      fill: #FFFFFF;\n",
              "    }\n",
              "  </style>\n",
              "\n",
              "      <script>\n",
              "        const buttonEl =\n",
              "          document.querySelector('#df-e4bb941e-02f7-453f-a818-3ac5be5054aa button.colab-df-convert');\n",
              "        buttonEl.style.display =\n",
              "          google.colab.kernel.accessAllowed ? 'block' : 'none';\n",
              "\n",
              "        async function convertToInteractive(key) {\n",
              "          const element = document.querySelector('#df-e4bb941e-02f7-453f-a818-3ac5be5054aa');\n",
              "          const dataTable =\n",
              "            await google.colab.kernel.invokeFunction('convertToInteractive',\n",
              "                                                     [key], {});\n",
              "          if (!dataTable) return;\n",
              "\n",
              "          const docLinkHtml = 'Like what you see? Visit the ' +\n",
              "            '<a target=\"_blank\" href=https://colab.research.google.com/notebooks/data_table.ipynb>data table notebook</a>'\n",
              "            + ' to learn more about interactive tables.';\n",
              "          element.innerHTML = '';\n",
              "          dataTable['output_type'] = 'display_data';\n",
              "          await google.colab.output.renderOutput(dataTable, element);\n",
              "          const docLink = document.createElement('div');\n",
              "          docLink.innerHTML = docLinkHtml;\n",
              "          element.appendChild(docLink);\n",
              "        }\n",
              "      </script>\n",
              "    </div>\n",
              "  </div>\n",
              "  "
            ]
          },
          "metadata": {},
          "execution_count": 76
        }
      ]
    },
    {
      "cell_type": "code",
      "source": [
        "#check assumption that there is no correlation between monetary and frequency\n",
        "summary[['monetary_value', 'frequency']].corr()"
      ],
      "metadata": {
        "id": "5YMth3U2z9ld",
        "colab": {
          "base_uri": "https://localhost:8080/",
          "height": 0
        },
        "outputId": "1f471942-6003-42bd-ddd2-8e0288ea0706"
      },
      "execution_count": 77,
      "outputs": [
        {
          "output_type": "execute_result",
          "data": {
            "text/plain": [
              "                monetary_value  frequency\n",
              "monetary_value        1.000000  -0.006573\n",
              "frequency            -0.006573   1.000000"
            ],
            "text/html": [
              "\n",
              "  <div id=\"df-74e5e865-87d4-4bf8-ace1-7aa80bba9f34\">\n",
              "    <div class=\"colab-df-container\">\n",
              "      <div>\n",
              "<style scoped>\n",
              "    .dataframe tbody tr th:only-of-type {\n",
              "        vertical-align: middle;\n",
              "    }\n",
              "\n",
              "    .dataframe tbody tr th {\n",
              "        vertical-align: top;\n",
              "    }\n",
              "\n",
              "    .dataframe thead th {\n",
              "        text-align: right;\n",
              "    }\n",
              "</style>\n",
              "<table border=\"1\" class=\"dataframe\">\n",
              "  <thead>\n",
              "    <tr style=\"text-align: right;\">\n",
              "      <th></th>\n",
              "      <th>monetary_value</th>\n",
              "      <th>frequency</th>\n",
              "    </tr>\n",
              "  </thead>\n",
              "  <tbody>\n",
              "    <tr>\n",
              "      <th>monetary_value</th>\n",
              "      <td>1.000000</td>\n",
              "      <td>-0.006573</td>\n",
              "    </tr>\n",
              "    <tr>\n",
              "      <th>frequency</th>\n",
              "      <td>-0.006573</td>\n",
              "      <td>1.000000</td>\n",
              "    </tr>\n",
              "  </tbody>\n",
              "</table>\n",
              "</div>\n",
              "      <button class=\"colab-df-convert\" onclick=\"convertToInteractive('df-74e5e865-87d4-4bf8-ace1-7aa80bba9f34')\"\n",
              "              title=\"Convert this dataframe to an interactive table.\"\n",
              "              style=\"display:none;\">\n",
              "        \n",
              "  <svg xmlns=\"http://www.w3.org/2000/svg\" height=\"24px\"viewBox=\"0 0 24 24\"\n",
              "       width=\"24px\">\n",
              "    <path d=\"M0 0h24v24H0V0z\" fill=\"none\"/>\n",
              "    <path d=\"M18.56 5.44l.94 2.06.94-2.06 2.06-.94-2.06-.94-.94-2.06-.94 2.06-2.06.94zm-11 1L8.5 8.5l.94-2.06 2.06-.94-2.06-.94L8.5 2.5l-.94 2.06-2.06.94zm10 10l.94 2.06.94-2.06 2.06-.94-2.06-.94-.94-2.06-.94 2.06-2.06.94z\"/><path d=\"M17.41 7.96l-1.37-1.37c-.4-.4-.92-.59-1.43-.59-.52 0-1.04.2-1.43.59L10.3 9.45l-7.72 7.72c-.78.78-.78 2.05 0 2.83L4 21.41c.39.39.9.59 1.41.59.51 0 1.02-.2 1.41-.59l7.78-7.78 2.81-2.81c.8-.78.8-2.07 0-2.86zM5.41 20L4 18.59l7.72-7.72 1.47 1.35L5.41 20z\"/>\n",
              "  </svg>\n",
              "      </button>\n",
              "      \n",
              "  <style>\n",
              "    .colab-df-container {\n",
              "      display:flex;\n",
              "      flex-wrap:wrap;\n",
              "      gap: 12px;\n",
              "    }\n",
              "\n",
              "    .colab-df-convert {\n",
              "      background-color: #E8F0FE;\n",
              "      border: none;\n",
              "      border-radius: 50%;\n",
              "      cursor: pointer;\n",
              "      display: none;\n",
              "      fill: #1967D2;\n",
              "      height: 32px;\n",
              "      padding: 0 0 0 0;\n",
              "      width: 32px;\n",
              "    }\n",
              "\n",
              "    .colab-df-convert:hover {\n",
              "      background-color: #E2EBFA;\n",
              "      box-shadow: 0px 1px 2px rgba(60, 64, 67, 0.3), 0px 1px 3px 1px rgba(60, 64, 67, 0.15);\n",
              "      fill: #174EA6;\n",
              "    }\n",
              "\n",
              "    [theme=dark] .colab-df-convert {\n",
              "      background-color: #3B4455;\n",
              "      fill: #D2E3FC;\n",
              "    }\n",
              "\n",
              "    [theme=dark] .colab-df-convert:hover {\n",
              "      background-color: #434B5C;\n",
              "      box-shadow: 0px 1px 3px 1px rgba(0, 0, 0, 0.15);\n",
              "      filter: drop-shadow(0px 1px 2px rgba(0, 0, 0, 0.3));\n",
              "      fill: #FFFFFF;\n",
              "    }\n",
              "  </style>\n",
              "\n",
              "      <script>\n",
              "        const buttonEl =\n",
              "          document.querySelector('#df-74e5e865-87d4-4bf8-ace1-7aa80bba9f34 button.colab-df-convert');\n",
              "        buttonEl.style.display =\n",
              "          google.colab.kernel.accessAllowed ? 'block' : 'none';\n",
              "\n",
              "        async function convertToInteractive(key) {\n",
              "          const element = document.querySelector('#df-74e5e865-87d4-4bf8-ace1-7aa80bba9f34');\n",
              "          const dataTable =\n",
              "            await google.colab.kernel.invokeFunction('convertToInteractive',\n",
              "                                                     [key], {});\n",
              "          if (!dataTable) return;\n",
              "\n",
              "          const docLinkHtml = 'Like what you see? Visit the ' +\n",
              "            '<a target=\"_blank\" href=https://colab.research.google.com/notebooks/data_table.ipynb>data table notebook</a>'\n",
              "            + ' to learn more about interactive tables.';\n",
              "          element.innerHTML = '';\n",
              "          dataTable['output_type'] = 'display_data';\n",
              "          await google.colab.output.renderOutput(dataTable, element);\n",
              "          const docLink = document.createElement('div');\n",
              "          docLink.innerHTML = docLinkHtml;\n",
              "          element.appendChild(docLink);\n",
              "        }\n",
              "      </script>\n",
              "    </div>\n",
              "  </div>\n",
              "  "
            ]
          },
          "metadata": {},
          "execution_count": 77
        }
      ]
    },
    {
      "cell_type": "code",
      "source": [
        "ggf = GammaGammaFitter(penalizer_coef = 0)\n",
        "ggf.fit(summary['frequency'],\n",
        "        summary['monetary_value'])\n",
        "print(ggf)"
      ],
      "metadata": {
        "id": "BE0ufTLu0Iyd",
        "colab": {
          "base_uri": "https://localhost:8080/"
        },
        "outputId": "88e84af7-e296-4a56-cc98-e020e87a187c"
      },
      "execution_count": 78,
      "outputs": [
        {
          "output_type": "stream",
          "name": "stdout",
          "text": [
            "<lifetimes.GammaGammaFitter: fitted with 1452 subjects, p: 2.86, q: 3.06, v: 89.99>\n"
          ]
        }
      ]
    },
    {
      "cell_type": "code",
      "source": [
        "#predict CLV for 12 months with discount rate 0.01 each month\n",
        "df[\"predicted_clv\"] = ggf.customer_lifetime_value( \n",
        "    bgf, #the model to use to predict the number of future transactions \n",
        "    summary['frequency'], \n",
        "    summary['recency'], \n",
        "    summary['T'], \n",
        "    summary['monetary_value'], time=12, # months \n",
        "    discount_rate=0.01,\n",
        "    freq = \"M\")"
      ],
      "metadata": {
        "id": "q6bSPsmW4TvP"
      },
      "execution_count": 79,
      "outputs": []
    },
    {
      "cell_type": "code",
      "source": [
        "df.head()"
      ],
      "metadata": {
        "id": "_nK7o4Vb4txm",
        "colab": {
          "base_uri": "https://localhost:8080/",
          "height": 0
        },
        "outputId": "b06618d1-8b2b-4808-96fc-d16266645a10"
      },
      "execution_count": 80,
      "outputs": [
        {
          "output_type": "execute_result",
          "data": {
            "text/plain": [
              "                                  frequency  recency      T  monetary_value  \\\n",
              "customer_unique_id                                                            \n",
              "004288347e5e88a27ded2bb23747066c        1.0    171.0  398.0           87.90   \n",
              "00a39521eb40f7012db50455bf083460        1.0     11.0   98.0           11.55   \n",
              "011575986092c30523ecb71ff10cb473        1.0     60.0  193.0           63.90   \n",
              "011b4adcd54683b480c4d841250a987f        1.0    177.0  372.0          113.94   \n",
              "012452d40dafae4df401bced74cdb490        1.0    330.0  437.0          330.00   \n",
              "\n",
              "                                  prob_alive  predicted_purchases_next_7_days  \\\n",
              "customer_unique_id                                                              \n",
              "004288347e5e88a27ded2bb23747066c    0.073817                         0.001147   \n",
              "00a39521eb40f7012db50455bf083460    0.064167                         0.002905   \n",
              "011575986092c30523ecb71ff10cb473    0.068831                         0.001940   \n",
              "011b4adcd54683b480c4d841250a987f    0.079960                         0.001317   \n",
              "012452d40dafae4df401bced74cdb490    0.111799                         0.001600   \n",
              "\n",
              "                                  predicted_purchases_next_14_days  \\\n",
              "customer_unique_id                                                   \n",
              "004288347e5e88a27ded2bb23747066c                          0.002273   \n",
              "00a39521eb40f7012db50455bf083460                          0.005660   \n",
              "011575986092c30523ecb71ff10cb473                          0.003817   \n",
              "011b4adcd54683b480c4d841250a987f                          0.002609   \n",
              "012452d40dafae4df401bced74cdb490                          0.003173   \n",
              "\n",
              "                                  predicted_purchases_next_30_days  \\\n",
              "customer_unique_id                                                   \n",
              "004288347e5e88a27ded2bb23747066c                          0.004771   \n",
              "00a39521eb40f7012db50455bf083460                          0.011463   \n",
              "011575986092c30523ecb71ff10cb473                          0.007888   \n",
              "011b4adcd54683b480c4d841250a987f                          0.005471   \n",
              "012452d40dafae4df401bced74cdb490                          0.006673   \n",
              "\n",
              "                                  predicted_purchases_next_60_days  \\\n",
              "customer_unique_id                                                   \n",
              "004288347e5e88a27ded2bb23747066c                          0.009197   \n",
              "00a39521eb40f7012db50455bf083460                          0.020827   \n",
              "011575986092c30523ecb71ff10cb473                          0.014804   \n",
              "011b4adcd54683b480c4d841250a987f                          0.010524   \n",
              "012452d40dafae4df401bced74cdb490                          0.012898   \n",
              "\n",
              "                                  predicted_clv  \n",
              "customer_unique_id                               \n",
              "004288347e5e88a27ded2bb23747066c       0.189290  \n",
              "00a39521eb40f7012db50455bf083460       0.270570  \n",
              "011575986092c30523ecb71ff10cb473       0.275673  \n",
              "011b4adcd54683b480c4d841250a987f       0.249152  \n",
              "012452d40dafae4df401bced74cdb490       0.623911  "
            ],
            "text/html": [
              "\n",
              "  <div id=\"df-6815cab3-0979-40c7-b698-3ae865bde276\">\n",
              "    <div class=\"colab-df-container\">\n",
              "      <div>\n",
              "<style scoped>\n",
              "    .dataframe tbody tr th:only-of-type {\n",
              "        vertical-align: middle;\n",
              "    }\n",
              "\n",
              "    .dataframe tbody tr th {\n",
              "        vertical-align: top;\n",
              "    }\n",
              "\n",
              "    .dataframe thead th {\n",
              "        text-align: right;\n",
              "    }\n",
              "</style>\n",
              "<table border=\"1\" class=\"dataframe\">\n",
              "  <thead>\n",
              "    <tr style=\"text-align: right;\">\n",
              "      <th></th>\n",
              "      <th>frequency</th>\n",
              "      <th>recency</th>\n",
              "      <th>T</th>\n",
              "      <th>monetary_value</th>\n",
              "      <th>prob_alive</th>\n",
              "      <th>predicted_purchases_next_7_days</th>\n",
              "      <th>predicted_purchases_next_14_days</th>\n",
              "      <th>predicted_purchases_next_30_days</th>\n",
              "      <th>predicted_purchases_next_60_days</th>\n",
              "      <th>predicted_clv</th>\n",
              "    </tr>\n",
              "    <tr>\n",
              "      <th>customer_unique_id</th>\n",
              "      <th></th>\n",
              "      <th></th>\n",
              "      <th></th>\n",
              "      <th></th>\n",
              "      <th></th>\n",
              "      <th></th>\n",
              "      <th></th>\n",
              "      <th></th>\n",
              "      <th></th>\n",
              "      <th></th>\n",
              "    </tr>\n",
              "  </thead>\n",
              "  <tbody>\n",
              "    <tr>\n",
              "      <th>004288347e5e88a27ded2bb23747066c</th>\n",
              "      <td>1.0</td>\n",
              "      <td>171.0</td>\n",
              "      <td>398.0</td>\n",
              "      <td>87.90</td>\n",
              "      <td>0.073817</td>\n",
              "      <td>0.001147</td>\n",
              "      <td>0.002273</td>\n",
              "      <td>0.004771</td>\n",
              "      <td>0.009197</td>\n",
              "      <td>0.189290</td>\n",
              "    </tr>\n",
              "    <tr>\n",
              "      <th>00a39521eb40f7012db50455bf083460</th>\n",
              "      <td>1.0</td>\n",
              "      <td>11.0</td>\n",
              "      <td>98.0</td>\n",
              "      <td>11.55</td>\n",
              "      <td>0.064167</td>\n",
              "      <td>0.002905</td>\n",
              "      <td>0.005660</td>\n",
              "      <td>0.011463</td>\n",
              "      <td>0.020827</td>\n",
              "      <td>0.270570</td>\n",
              "    </tr>\n",
              "    <tr>\n",
              "      <th>011575986092c30523ecb71ff10cb473</th>\n",
              "      <td>1.0</td>\n",
              "      <td>60.0</td>\n",
              "      <td>193.0</td>\n",
              "      <td>63.90</td>\n",
              "      <td>0.068831</td>\n",
              "      <td>0.001940</td>\n",
              "      <td>0.003817</td>\n",
              "      <td>0.007888</td>\n",
              "      <td>0.014804</td>\n",
              "      <td>0.275673</td>\n",
              "    </tr>\n",
              "    <tr>\n",
              "      <th>011b4adcd54683b480c4d841250a987f</th>\n",
              "      <td>1.0</td>\n",
              "      <td>177.0</td>\n",
              "      <td>372.0</td>\n",
              "      <td>113.94</td>\n",
              "      <td>0.079960</td>\n",
              "      <td>0.001317</td>\n",
              "      <td>0.002609</td>\n",
              "      <td>0.005471</td>\n",
              "      <td>0.010524</td>\n",
              "      <td>0.249152</td>\n",
              "    </tr>\n",
              "    <tr>\n",
              "      <th>012452d40dafae4df401bced74cdb490</th>\n",
              "      <td>1.0</td>\n",
              "      <td>330.0</td>\n",
              "      <td>437.0</td>\n",
              "      <td>330.00</td>\n",
              "      <td>0.111799</td>\n",
              "      <td>0.001600</td>\n",
              "      <td>0.003173</td>\n",
              "      <td>0.006673</td>\n",
              "      <td>0.012898</td>\n",
              "      <td>0.623911</td>\n",
              "    </tr>\n",
              "  </tbody>\n",
              "</table>\n",
              "</div>\n",
              "      <button class=\"colab-df-convert\" onclick=\"convertToInteractive('df-6815cab3-0979-40c7-b698-3ae865bde276')\"\n",
              "              title=\"Convert this dataframe to an interactive table.\"\n",
              "              style=\"display:none;\">\n",
              "        \n",
              "  <svg xmlns=\"http://www.w3.org/2000/svg\" height=\"24px\"viewBox=\"0 0 24 24\"\n",
              "       width=\"24px\">\n",
              "    <path d=\"M0 0h24v24H0V0z\" fill=\"none\"/>\n",
              "    <path d=\"M18.56 5.44l.94 2.06.94-2.06 2.06-.94-2.06-.94-.94-2.06-.94 2.06-2.06.94zm-11 1L8.5 8.5l.94-2.06 2.06-.94-2.06-.94L8.5 2.5l-.94 2.06-2.06.94zm10 10l.94 2.06.94-2.06 2.06-.94-2.06-.94-.94-2.06-.94 2.06-2.06.94z\"/><path d=\"M17.41 7.96l-1.37-1.37c-.4-.4-.92-.59-1.43-.59-.52 0-1.04.2-1.43.59L10.3 9.45l-7.72 7.72c-.78.78-.78 2.05 0 2.83L4 21.41c.39.39.9.59 1.41.59.51 0 1.02-.2 1.41-.59l7.78-7.78 2.81-2.81c.8-.78.8-2.07 0-2.86zM5.41 20L4 18.59l7.72-7.72 1.47 1.35L5.41 20z\"/>\n",
              "  </svg>\n",
              "      </button>\n",
              "      \n",
              "  <style>\n",
              "    .colab-df-container {\n",
              "      display:flex;\n",
              "      flex-wrap:wrap;\n",
              "      gap: 12px;\n",
              "    }\n",
              "\n",
              "    .colab-df-convert {\n",
              "      background-color: #E8F0FE;\n",
              "      border: none;\n",
              "      border-radius: 50%;\n",
              "      cursor: pointer;\n",
              "      display: none;\n",
              "      fill: #1967D2;\n",
              "      height: 32px;\n",
              "      padding: 0 0 0 0;\n",
              "      width: 32px;\n",
              "    }\n",
              "\n",
              "    .colab-df-convert:hover {\n",
              "      background-color: #E2EBFA;\n",
              "      box-shadow: 0px 1px 2px rgba(60, 64, 67, 0.3), 0px 1px 3px 1px rgba(60, 64, 67, 0.15);\n",
              "      fill: #174EA6;\n",
              "    }\n",
              "\n",
              "    [theme=dark] .colab-df-convert {\n",
              "      background-color: #3B4455;\n",
              "      fill: #D2E3FC;\n",
              "    }\n",
              "\n",
              "    [theme=dark] .colab-df-convert:hover {\n",
              "      background-color: #434B5C;\n",
              "      box-shadow: 0px 1px 3px 1px rgba(0, 0, 0, 0.15);\n",
              "      filter: drop-shadow(0px 1px 2px rgba(0, 0, 0, 0.3));\n",
              "      fill: #FFFFFF;\n",
              "    }\n",
              "  </style>\n",
              "\n",
              "      <script>\n",
              "        const buttonEl =\n",
              "          document.querySelector('#df-6815cab3-0979-40c7-b698-3ae865bde276 button.colab-df-convert');\n",
              "        buttonEl.style.display =\n",
              "          google.colab.kernel.accessAllowed ? 'block' : 'none';\n",
              "\n",
              "        async function convertToInteractive(key) {\n",
              "          const element = document.querySelector('#df-6815cab3-0979-40c7-b698-3ae865bde276');\n",
              "          const dataTable =\n",
              "            await google.colab.kernel.invokeFunction('convertToInteractive',\n",
              "                                                     [key], {});\n",
              "          if (!dataTable) return;\n",
              "\n",
              "          const docLinkHtml = 'Like what you see? Visit the ' +\n",
              "            '<a target=\"_blank\" href=https://colab.research.google.com/notebooks/data_table.ipynb>data table notebook</a>'\n",
              "            + ' to learn more about interactive tables.';\n",
              "          element.innerHTML = '';\n",
              "          dataTable['output_type'] = 'display_data';\n",
              "          await google.colab.output.renderOutput(dataTable, element);\n",
              "          const docLink = document.createElement('div');\n",
              "          docLink.innerHTML = docLinkHtml;\n",
              "          element.appendChild(docLink);\n",
              "        }\n",
              "      </script>\n",
              "    </div>\n",
              "  </div>\n",
              "  "
            ]
          },
          "metadata": {},
          "execution_count": 80
        }
      ]
    },
    {
      "cell_type": "markdown",
      "source": [
        "# Task 3: Refine our segmentation by adding CLV"
      ],
      "metadata": {
        "id": "GwKDjGlr_B0f"
      }
    },
    {
      "cell_type": "markdown",
      "source": [
        "#find number of cluster "
      ],
      "metadata": {
        "id": "Sv3IG4zO83rJ"
      }
    },
    {
      "cell_type": "code",
      "source": [
        "df.corr()"
      ],
      "metadata": {
        "id": "6KpZ9YhT_PW4",
        "colab": {
          "base_uri": "https://localhost:8080/",
          "height": 427
        },
        "outputId": "a9ade3d7-3f79-4bbf-c679-526920561c44"
      },
      "execution_count": 81,
      "outputs": [
        {
          "output_type": "execute_result",
          "data": {
            "text/plain": [
              "                                  frequency   recency         T  \\\n",
              "frequency                          1.000000  0.185738  0.079072   \n",
              "recency                            0.185738  1.000000  0.479540   \n",
              "T                                  0.079072  0.479540  1.000000   \n",
              "monetary_value                    -0.006573 -0.016449  0.000639   \n",
              "prob_alive                         0.624193  0.582047 -0.064742   \n",
              "predicted_purchases_next_7_days    0.796545  0.134889 -0.203330   \n",
              "predicted_purchases_next_14_days   0.800344  0.138581 -0.197933   \n",
              "predicted_purchases_next_30_days   0.807646  0.146049 -0.186943   \n",
              "predicted_purchases_next_60_days   0.817772  0.157391 -0.170137   \n",
              "predicted_clv                      0.616170  0.120942 -0.241698   \n",
              "\n",
              "                                  monetary_value  prob_alive  \\\n",
              "frequency                              -0.006573    0.624193   \n",
              "recency                                -0.016449    0.582047   \n",
              "T                                       0.000639   -0.064742   \n",
              "monetary_value                          1.000000   -0.022314   \n",
              "prob_alive                             -0.022314    1.000000   \n",
              "predicted_purchases_next_7_days        -0.017729    0.737384   \n",
              "predicted_purchases_next_14_days       -0.017769    0.738307   \n",
              "predicted_purchases_next_30_days       -0.017825    0.739877   \n",
              "predicted_purchases_next_60_days       -0.017856    0.741597   \n",
              "predicted_clv                           0.283751    0.686972   \n",
              "\n",
              "                                  predicted_purchases_next_7_days  \\\n",
              "frequency                                                0.796545   \n",
              "recency                                                  0.134889   \n",
              "T                                                       -0.203330   \n",
              "monetary_value                                          -0.017729   \n",
              "prob_alive                                               0.737384   \n",
              "predicted_purchases_next_7_days                          1.000000   \n",
              "predicted_purchases_next_14_days                         0.999932   \n",
              "predicted_purchases_next_30_days                         0.999394   \n",
              "predicted_purchases_next_60_days                         0.997633   \n",
              "predicted_clv                                            0.763383   \n",
              "\n",
              "                                  predicted_purchases_next_14_days  \\\n",
              "frequency                                                 0.800344   \n",
              "recency                                                   0.138581   \n",
              "T                                                        -0.197933   \n",
              "monetary_value                                           -0.017769   \n",
              "prob_alive                                                0.738307   \n",
              "predicted_purchases_next_7_days                           0.999932   \n",
              "predicted_purchases_next_14_days                          1.000000   \n",
              "predicted_purchases_next_30_days                          0.999732   \n",
              "predicted_purchases_next_60_days                          0.998366   \n",
              "predicted_clv                                             0.762186   \n",
              "\n",
              "                                  predicted_purchases_next_30_days  \\\n",
              "frequency                                                 0.807646   \n",
              "recency                                                   0.146049   \n",
              "T                                                        -0.186943   \n",
              "monetary_value                                           -0.017825   \n",
              "prob_alive                                                0.739877   \n",
              "predicted_purchases_next_7_days                           0.999394   \n",
              "predicted_purchases_next_14_days                          0.999732   \n",
              "predicted_purchases_next_30_days                          1.000000   \n",
              "predicted_purchases_next_60_days                          0.999421   \n",
              "predicted_clv                                             0.759502   \n",
              "\n",
              "                                  predicted_purchases_next_60_days  \\\n",
              "frequency                                                 0.817772   \n",
              "recency                                                   0.157391   \n",
              "T                                                        -0.170137   \n",
              "monetary_value                                           -0.017856   \n",
              "prob_alive                                                0.741597   \n",
              "predicted_purchases_next_7_days                           0.997633   \n",
              "predicted_purchases_next_14_days                          0.998366   \n",
              "predicted_purchases_next_30_days                          0.999421   \n",
              "predicted_purchases_next_60_days                          1.000000   \n",
              "predicted_clv                                             0.754812   \n",
              "\n",
              "                                  predicted_clv  \n",
              "frequency                              0.616170  \n",
              "recency                                0.120942  \n",
              "T                                     -0.241698  \n",
              "monetary_value                         0.283751  \n",
              "prob_alive                             0.686972  \n",
              "predicted_purchases_next_7_days        0.763383  \n",
              "predicted_purchases_next_14_days       0.762186  \n",
              "predicted_purchases_next_30_days       0.759502  \n",
              "predicted_purchases_next_60_days       0.754812  \n",
              "predicted_clv                          1.000000  "
            ],
            "text/html": [
              "\n",
              "  <div id=\"df-1a078162-4913-4ff5-a900-85e329d3397d\">\n",
              "    <div class=\"colab-df-container\">\n",
              "      <div>\n",
              "<style scoped>\n",
              "    .dataframe tbody tr th:only-of-type {\n",
              "        vertical-align: middle;\n",
              "    }\n",
              "\n",
              "    .dataframe tbody tr th {\n",
              "        vertical-align: top;\n",
              "    }\n",
              "\n",
              "    .dataframe thead th {\n",
              "        text-align: right;\n",
              "    }\n",
              "</style>\n",
              "<table border=\"1\" class=\"dataframe\">\n",
              "  <thead>\n",
              "    <tr style=\"text-align: right;\">\n",
              "      <th></th>\n",
              "      <th>frequency</th>\n",
              "      <th>recency</th>\n",
              "      <th>T</th>\n",
              "      <th>monetary_value</th>\n",
              "      <th>prob_alive</th>\n",
              "      <th>predicted_purchases_next_7_days</th>\n",
              "      <th>predicted_purchases_next_14_days</th>\n",
              "      <th>predicted_purchases_next_30_days</th>\n",
              "      <th>predicted_purchases_next_60_days</th>\n",
              "      <th>predicted_clv</th>\n",
              "    </tr>\n",
              "  </thead>\n",
              "  <tbody>\n",
              "    <tr>\n",
              "      <th>frequency</th>\n",
              "      <td>1.000000</td>\n",
              "      <td>0.185738</td>\n",
              "      <td>0.079072</td>\n",
              "      <td>-0.006573</td>\n",
              "      <td>0.624193</td>\n",
              "      <td>0.796545</td>\n",
              "      <td>0.800344</td>\n",
              "      <td>0.807646</td>\n",
              "      <td>0.817772</td>\n",
              "      <td>0.616170</td>\n",
              "    </tr>\n",
              "    <tr>\n",
              "      <th>recency</th>\n",
              "      <td>0.185738</td>\n",
              "      <td>1.000000</td>\n",
              "      <td>0.479540</td>\n",
              "      <td>-0.016449</td>\n",
              "      <td>0.582047</td>\n",
              "      <td>0.134889</td>\n",
              "      <td>0.138581</td>\n",
              "      <td>0.146049</td>\n",
              "      <td>0.157391</td>\n",
              "      <td>0.120942</td>\n",
              "    </tr>\n",
              "    <tr>\n",
              "      <th>T</th>\n",
              "      <td>0.079072</td>\n",
              "      <td>0.479540</td>\n",
              "      <td>1.000000</td>\n",
              "      <td>0.000639</td>\n",
              "      <td>-0.064742</td>\n",
              "      <td>-0.203330</td>\n",
              "      <td>-0.197933</td>\n",
              "      <td>-0.186943</td>\n",
              "      <td>-0.170137</td>\n",
              "      <td>-0.241698</td>\n",
              "    </tr>\n",
              "    <tr>\n",
              "      <th>monetary_value</th>\n",
              "      <td>-0.006573</td>\n",
              "      <td>-0.016449</td>\n",
              "      <td>0.000639</td>\n",
              "      <td>1.000000</td>\n",
              "      <td>-0.022314</td>\n",
              "      <td>-0.017729</td>\n",
              "      <td>-0.017769</td>\n",
              "      <td>-0.017825</td>\n",
              "      <td>-0.017856</td>\n",
              "      <td>0.283751</td>\n",
              "    </tr>\n",
              "    <tr>\n",
              "      <th>prob_alive</th>\n",
              "      <td>0.624193</td>\n",
              "      <td>0.582047</td>\n",
              "      <td>-0.064742</td>\n",
              "      <td>-0.022314</td>\n",
              "      <td>1.000000</td>\n",
              "      <td>0.737384</td>\n",
              "      <td>0.738307</td>\n",
              "      <td>0.739877</td>\n",
              "      <td>0.741597</td>\n",
              "      <td>0.686972</td>\n",
              "    </tr>\n",
              "    <tr>\n",
              "      <th>predicted_purchases_next_7_days</th>\n",
              "      <td>0.796545</td>\n",
              "      <td>0.134889</td>\n",
              "      <td>-0.203330</td>\n",
              "      <td>-0.017729</td>\n",
              "      <td>0.737384</td>\n",
              "      <td>1.000000</td>\n",
              "      <td>0.999932</td>\n",
              "      <td>0.999394</td>\n",
              "      <td>0.997633</td>\n",
              "      <td>0.763383</td>\n",
              "    </tr>\n",
              "    <tr>\n",
              "      <th>predicted_purchases_next_14_days</th>\n",
              "      <td>0.800344</td>\n",
              "      <td>0.138581</td>\n",
              "      <td>-0.197933</td>\n",
              "      <td>-0.017769</td>\n",
              "      <td>0.738307</td>\n",
              "      <td>0.999932</td>\n",
              "      <td>1.000000</td>\n",
              "      <td>0.999732</td>\n",
              "      <td>0.998366</td>\n",
              "      <td>0.762186</td>\n",
              "    </tr>\n",
              "    <tr>\n",
              "      <th>predicted_purchases_next_30_days</th>\n",
              "      <td>0.807646</td>\n",
              "      <td>0.146049</td>\n",
              "      <td>-0.186943</td>\n",
              "      <td>-0.017825</td>\n",
              "      <td>0.739877</td>\n",
              "      <td>0.999394</td>\n",
              "      <td>0.999732</td>\n",
              "      <td>1.000000</td>\n",
              "      <td>0.999421</td>\n",
              "      <td>0.759502</td>\n",
              "    </tr>\n",
              "    <tr>\n",
              "      <th>predicted_purchases_next_60_days</th>\n",
              "      <td>0.817772</td>\n",
              "      <td>0.157391</td>\n",
              "      <td>-0.170137</td>\n",
              "      <td>-0.017856</td>\n",
              "      <td>0.741597</td>\n",
              "      <td>0.997633</td>\n",
              "      <td>0.998366</td>\n",
              "      <td>0.999421</td>\n",
              "      <td>1.000000</td>\n",
              "      <td>0.754812</td>\n",
              "    </tr>\n",
              "    <tr>\n",
              "      <th>predicted_clv</th>\n",
              "      <td>0.616170</td>\n",
              "      <td>0.120942</td>\n",
              "      <td>-0.241698</td>\n",
              "      <td>0.283751</td>\n",
              "      <td>0.686972</td>\n",
              "      <td>0.763383</td>\n",
              "      <td>0.762186</td>\n",
              "      <td>0.759502</td>\n",
              "      <td>0.754812</td>\n",
              "      <td>1.000000</td>\n",
              "    </tr>\n",
              "  </tbody>\n",
              "</table>\n",
              "</div>\n",
              "      <button class=\"colab-df-convert\" onclick=\"convertToInteractive('df-1a078162-4913-4ff5-a900-85e329d3397d')\"\n",
              "              title=\"Convert this dataframe to an interactive table.\"\n",
              "              style=\"display:none;\">\n",
              "        \n",
              "  <svg xmlns=\"http://www.w3.org/2000/svg\" height=\"24px\"viewBox=\"0 0 24 24\"\n",
              "       width=\"24px\">\n",
              "    <path d=\"M0 0h24v24H0V0z\" fill=\"none\"/>\n",
              "    <path d=\"M18.56 5.44l.94 2.06.94-2.06 2.06-.94-2.06-.94-.94-2.06-.94 2.06-2.06.94zm-11 1L8.5 8.5l.94-2.06 2.06-.94-2.06-.94L8.5 2.5l-.94 2.06-2.06.94zm10 10l.94 2.06.94-2.06 2.06-.94-2.06-.94-.94-2.06-.94 2.06-2.06.94z\"/><path d=\"M17.41 7.96l-1.37-1.37c-.4-.4-.92-.59-1.43-.59-.52 0-1.04.2-1.43.59L10.3 9.45l-7.72 7.72c-.78.78-.78 2.05 0 2.83L4 21.41c.39.39.9.59 1.41.59.51 0 1.02-.2 1.41-.59l7.78-7.78 2.81-2.81c.8-.78.8-2.07 0-2.86zM5.41 20L4 18.59l7.72-7.72 1.47 1.35L5.41 20z\"/>\n",
              "  </svg>\n",
              "      </button>\n",
              "      \n",
              "  <style>\n",
              "    .colab-df-container {\n",
              "      display:flex;\n",
              "      flex-wrap:wrap;\n",
              "      gap: 12px;\n",
              "    }\n",
              "\n",
              "    .colab-df-convert {\n",
              "      background-color: #E8F0FE;\n",
              "      border: none;\n",
              "      border-radius: 50%;\n",
              "      cursor: pointer;\n",
              "      display: none;\n",
              "      fill: #1967D2;\n",
              "      height: 32px;\n",
              "      padding: 0 0 0 0;\n",
              "      width: 32px;\n",
              "    }\n",
              "\n",
              "    .colab-df-convert:hover {\n",
              "      background-color: #E2EBFA;\n",
              "      box-shadow: 0px 1px 2px rgba(60, 64, 67, 0.3), 0px 1px 3px 1px rgba(60, 64, 67, 0.15);\n",
              "      fill: #174EA6;\n",
              "    }\n",
              "\n",
              "    [theme=dark] .colab-df-convert {\n",
              "      background-color: #3B4455;\n",
              "      fill: #D2E3FC;\n",
              "    }\n",
              "\n",
              "    [theme=dark] .colab-df-convert:hover {\n",
              "      background-color: #434B5C;\n",
              "      box-shadow: 0px 1px 3px 1px rgba(0, 0, 0, 0.15);\n",
              "      filter: drop-shadow(0px 1px 2px rgba(0, 0, 0, 0.3));\n",
              "      fill: #FFFFFF;\n",
              "    }\n",
              "  </style>\n",
              "\n",
              "      <script>\n",
              "        const buttonEl =\n",
              "          document.querySelector('#df-1a078162-4913-4ff5-a900-85e329d3397d button.colab-df-convert');\n",
              "        buttonEl.style.display =\n",
              "          google.colab.kernel.accessAllowed ? 'block' : 'none';\n",
              "\n",
              "        async function convertToInteractive(key) {\n",
              "          const element = document.querySelector('#df-1a078162-4913-4ff5-a900-85e329d3397d');\n",
              "          const dataTable =\n",
              "            await google.colab.kernel.invokeFunction('convertToInteractive',\n",
              "                                                     [key], {});\n",
              "          if (!dataTable) return;\n",
              "\n",
              "          const docLinkHtml = 'Like what you see? Visit the ' +\n",
              "            '<a target=\"_blank\" href=https://colab.research.google.com/notebooks/data_table.ipynb>data table notebook</a>'\n",
              "            + ' to learn more about interactive tables.';\n",
              "          element.innerHTML = '';\n",
              "          dataTable['output_type'] = 'display_data';\n",
              "          await google.colab.output.renderOutput(dataTable, element);\n",
              "          const docLink = document.createElement('div');\n",
              "          docLink.innerHTML = docLinkHtml;\n",
              "          element.appendChild(docLink);\n",
              "        }\n",
              "      </script>\n",
              "    </div>\n",
              "  </div>\n",
              "  "
            ]
          },
          "metadata": {},
          "execution_count": 81
        }
      ]
    },
    {
      "cell_type": "markdown",
      "source": [
        "based on the correlation table, we should drop our predicted_purchase variables because they are highly correlated with frequency"
      ],
      "metadata": {
        "id": "AHlpITC2B6cm"
      }
    },
    {
      "cell_type": "code",
      "source": [
        "import re\n",
        "predicted_purchase = [ x for x in df.columns if re.search(\"predicted_purchases_\",x)]"
      ],
      "metadata": {
        "id": "DiwG4C2GCEcJ"
      },
      "execution_count": 82,
      "outputs": []
    },
    {
      "cell_type": "code",
      "source": [
        "data_for_model = df.drop(columns=predicted_purchase+[\"T\"])"
      ],
      "metadata": {
        "id": "8VRnae32C083"
      },
      "execution_count": 83,
      "outputs": []
    },
    {
      "cell_type": "markdown",
      "source": [
        "## using Gap statistic"
      ],
      "metadata": {
        "id": "oAKLn6rF85Ad"
      }
    },
    {
      "cell_type": "code",
      "source": [
        ""
      ],
      "metadata": {
        "id": "kmYgUxo3MzA2"
      },
      "execution_count": 83,
      "outputs": []
    },
    {
      "cell_type": "code",
      "source": [
        "scaler_obj = StandardScaler()\n",
        "scaled_data = scaler_obj.fit_transform(data_for_model.to_numpy())\n",
        "data_for_kmeans = pd.DataFrame(scaled_data, columns = data_for_model.columns )"
      ],
      "metadata": {
        "id": "KhbLgdg77qPn"
      },
      "execution_count": 84,
      "outputs": []
    },
    {
      "cell_type": "code",
      "source": [
        "data_for_kmeans.head()"
      ],
      "metadata": {
        "id": "lpq1qxBB8lyM",
        "colab": {
          "base_uri": "https://localhost:8080/",
          "height": 206
        },
        "outputId": "6c01364c-e924-4abb-eb95-ed9b195e4b91"
      },
      "execution_count": 85,
      "outputs": [
        {
          "output_type": "execute_result",
          "data": {
            "text/plain": [
              "   frequency   recency  monetary_value  prob_alive  predicted_clv\n",
              "0  -0.202486  0.449162       -0.256973   -0.127273      -0.316356\n",
              "1  -0.202486 -0.933168       -0.800821   -0.273804      -0.230435\n",
              "2  -0.202486 -0.509829       -0.427927   -0.202978      -0.225041\n",
              "3  -0.202486  0.501000       -0.071487   -0.034013      -0.253076\n",
              "4  -0.202486  1.822853        1.467529    0.449427       0.143083"
            ],
            "text/html": [
              "\n",
              "  <div id=\"df-b3b01a0b-76ea-49da-8301-684a0eb514e3\">\n",
              "    <div class=\"colab-df-container\">\n",
              "      <div>\n",
              "<style scoped>\n",
              "    .dataframe tbody tr th:only-of-type {\n",
              "        vertical-align: middle;\n",
              "    }\n",
              "\n",
              "    .dataframe tbody tr th {\n",
              "        vertical-align: top;\n",
              "    }\n",
              "\n",
              "    .dataframe thead th {\n",
              "        text-align: right;\n",
              "    }\n",
              "</style>\n",
              "<table border=\"1\" class=\"dataframe\">\n",
              "  <thead>\n",
              "    <tr style=\"text-align: right;\">\n",
              "      <th></th>\n",
              "      <th>frequency</th>\n",
              "      <th>recency</th>\n",
              "      <th>monetary_value</th>\n",
              "      <th>prob_alive</th>\n",
              "      <th>predicted_clv</th>\n",
              "    </tr>\n",
              "  </thead>\n",
              "  <tbody>\n",
              "    <tr>\n",
              "      <th>0</th>\n",
              "      <td>-0.202486</td>\n",
              "      <td>0.449162</td>\n",
              "      <td>-0.256973</td>\n",
              "      <td>-0.127273</td>\n",
              "      <td>-0.316356</td>\n",
              "    </tr>\n",
              "    <tr>\n",
              "      <th>1</th>\n",
              "      <td>-0.202486</td>\n",
              "      <td>-0.933168</td>\n",
              "      <td>-0.800821</td>\n",
              "      <td>-0.273804</td>\n",
              "      <td>-0.230435</td>\n",
              "    </tr>\n",
              "    <tr>\n",
              "      <th>2</th>\n",
              "      <td>-0.202486</td>\n",
              "      <td>-0.509829</td>\n",
              "      <td>-0.427927</td>\n",
              "      <td>-0.202978</td>\n",
              "      <td>-0.225041</td>\n",
              "    </tr>\n",
              "    <tr>\n",
              "      <th>3</th>\n",
              "      <td>-0.202486</td>\n",
              "      <td>0.501000</td>\n",
              "      <td>-0.071487</td>\n",
              "      <td>-0.034013</td>\n",
              "      <td>-0.253076</td>\n",
              "    </tr>\n",
              "    <tr>\n",
              "      <th>4</th>\n",
              "      <td>-0.202486</td>\n",
              "      <td>1.822853</td>\n",
              "      <td>1.467529</td>\n",
              "      <td>0.449427</td>\n",
              "      <td>0.143083</td>\n",
              "    </tr>\n",
              "  </tbody>\n",
              "</table>\n",
              "</div>\n",
              "      <button class=\"colab-df-convert\" onclick=\"convertToInteractive('df-b3b01a0b-76ea-49da-8301-684a0eb514e3')\"\n",
              "              title=\"Convert this dataframe to an interactive table.\"\n",
              "              style=\"display:none;\">\n",
              "        \n",
              "  <svg xmlns=\"http://www.w3.org/2000/svg\" height=\"24px\"viewBox=\"0 0 24 24\"\n",
              "       width=\"24px\">\n",
              "    <path d=\"M0 0h24v24H0V0z\" fill=\"none\"/>\n",
              "    <path d=\"M18.56 5.44l.94 2.06.94-2.06 2.06-.94-2.06-.94-.94-2.06-.94 2.06-2.06.94zm-11 1L8.5 8.5l.94-2.06 2.06-.94-2.06-.94L8.5 2.5l-.94 2.06-2.06.94zm10 10l.94 2.06.94-2.06 2.06-.94-2.06-.94-.94-2.06-.94 2.06-2.06.94z\"/><path d=\"M17.41 7.96l-1.37-1.37c-.4-.4-.92-.59-1.43-.59-.52 0-1.04.2-1.43.59L10.3 9.45l-7.72 7.72c-.78.78-.78 2.05 0 2.83L4 21.41c.39.39.9.59 1.41.59.51 0 1.02-.2 1.41-.59l7.78-7.78 2.81-2.81c.8-.78.8-2.07 0-2.86zM5.41 20L4 18.59l7.72-7.72 1.47 1.35L5.41 20z\"/>\n",
              "  </svg>\n",
              "      </button>\n",
              "      \n",
              "  <style>\n",
              "    .colab-df-container {\n",
              "      display:flex;\n",
              "      flex-wrap:wrap;\n",
              "      gap: 12px;\n",
              "    }\n",
              "\n",
              "    .colab-df-convert {\n",
              "      background-color: #E8F0FE;\n",
              "      border: none;\n",
              "      border-radius: 50%;\n",
              "      cursor: pointer;\n",
              "      display: none;\n",
              "      fill: #1967D2;\n",
              "      height: 32px;\n",
              "      padding: 0 0 0 0;\n",
              "      width: 32px;\n",
              "    }\n",
              "\n",
              "    .colab-df-convert:hover {\n",
              "      background-color: #E2EBFA;\n",
              "      box-shadow: 0px 1px 2px rgba(60, 64, 67, 0.3), 0px 1px 3px 1px rgba(60, 64, 67, 0.15);\n",
              "      fill: #174EA6;\n",
              "    }\n",
              "\n",
              "    [theme=dark] .colab-df-convert {\n",
              "      background-color: #3B4455;\n",
              "      fill: #D2E3FC;\n",
              "    }\n",
              "\n",
              "    [theme=dark] .colab-df-convert:hover {\n",
              "      background-color: #434B5C;\n",
              "      box-shadow: 0px 1px 3px 1px rgba(0, 0, 0, 0.15);\n",
              "      filter: drop-shadow(0px 1px 2px rgba(0, 0, 0, 0.3));\n",
              "      fill: #FFFFFF;\n",
              "    }\n",
              "  </style>\n",
              "\n",
              "      <script>\n",
              "        const buttonEl =\n",
              "          document.querySelector('#df-b3b01a0b-76ea-49da-8301-684a0eb514e3 button.colab-df-convert');\n",
              "        buttonEl.style.display =\n",
              "          google.colab.kernel.accessAllowed ? 'block' : 'none';\n",
              "\n",
              "        async function convertToInteractive(key) {\n",
              "          const element = document.querySelector('#df-b3b01a0b-76ea-49da-8301-684a0eb514e3');\n",
              "          const dataTable =\n",
              "            await google.colab.kernel.invokeFunction('convertToInteractive',\n",
              "                                                     [key], {});\n",
              "          if (!dataTable) return;\n",
              "\n",
              "          const docLinkHtml = 'Like what you see? Visit the ' +\n",
              "            '<a target=\"_blank\" href=https://colab.research.google.com/notebooks/data_table.ipynb>data table notebook</a>'\n",
              "            + ' to learn more about interactive tables.';\n",
              "          element.innerHTML = '';\n",
              "          dataTable['output_type'] = 'display_data';\n",
              "          await google.colab.output.renderOutput(dataTable, element);\n",
              "          const docLink = document.createElement('div');\n",
              "          docLink.innerHTML = docLinkHtml;\n",
              "          element.appendChild(docLink);\n",
              "        }\n",
              "      </script>\n",
              "    </div>\n",
              "  </div>\n",
              "  "
            ]
          },
          "metadata": {},
          "execution_count": 85
        }
      ]
    },
    {
      "cell_type": "markdown",
      "source": [
        ""
      ],
      "metadata": {
        "id": "qiWTQ-nb_gAH"
      }
    },
    {
      "cell_type": "code",
      "source": [
        "optimalK = OptimalK(n_jobs=4, parallel_backend='joblib')"
      ],
      "metadata": {
        "id": "s0xTwUHy7Hfy"
      },
      "execution_count": 86,
      "outputs": []
    },
    {
      "cell_type": "code",
      "source": [
        "n_clusters = optimalK(data_for_kmeans, cluster_array=np.arange(1, 6))\n",
        "print('Optimal clusters using Gap Statistic: ', n_clusters)"
      ],
      "metadata": {
        "id": "CrgTPdGd7LcF",
        "colab": {
          "base_uri": "https://localhost:8080/"
        },
        "outputId": "0efd3281-4f1e-41d3-c123-fd8f291a23bd"
      },
      "execution_count": 87,
      "outputs": [
        {
          "output_type": "stream",
          "name": "stdout",
          "text": [
            "Optimal clusters using Gap Statistic:  1\n"
          ]
        }
      ]
    },
    {
      "cell_type": "markdown",
      "source": [
        "## using elbow method"
      ],
      "metadata": {
        "id": "suPhqri887gs"
      }
    },
    {
      "cell_type": "code",
      "source": [
        "model = KElbowVisualizer(KMeans(random_state=1000), k=10)\n",
        "model.fit(data_for_kmeans)\n",
        "model.show()"
      ],
      "metadata": {
        "id": "jka_yM069AVr",
        "colab": {
          "base_uri": "https://localhost:8080/",
          "height": 394
        },
        "outputId": "d69d87cc-8ae6-446d-8ef6-5c61fc117114"
      },
      "execution_count": 88,
      "outputs": [
        {
          "output_type": "display_data",
          "data": {
            "text/plain": [
              "<Figure size 576x396 with 2 Axes>"
            ],
            "image/png": "[encoded data removed]"
          },
          "metadata": {}
        },
        {
          "output_type": "execute_result",
          "data": {
            "text/plain": [
              "<matplotlib.axes._subplots.AxesSubplot at 0x7f9d97826450>"
            ]
          },
          "metadata": {},
          "execution_count": 88
        }
      ]
    },
    {
      "cell_type": "markdown",
      "source": [
        "Optimal cluster using Elbow method : *5*"
      ],
      "metadata": {
        "id": "KP8XgvcW9-UR"
      }
    },
    {
      "cell_type": "code",
      "source": [
        "model = KElbowVisualizer(KMeans(random_state=1000), k=10, metric = \"silhouette\")\n",
        "model.fit(data_for_kmeans)\n",
        "model.show()"
      ],
      "metadata": {
        "id": "6jsMIv2I-BI9",
        "colab": {
          "base_uri": "https://localhost:8080/",
          "height": 394
        },
        "outputId": "d04a1eda-b891-4df3-a3d9-5d9257a9922c"
      },
      "execution_count": 89,
      "outputs": [
        {
          "output_type": "display_data",
          "data": {
            "text/plain": [
              "<Figure size 576x396 with 2 Axes>"
            ],
            "image/png": "[encoded data removed]"
          },
          "metadata": {}
        },
        {
          "output_type": "execute_result",
          "data": {
            "text/plain": [
              "<matplotlib.axes._subplots.AxesSubplot at 0x7f9d9755fdd0>"
            ]
          },
          "metadata": {},
          "execution_count": 89
        }
      ]
    },
    {
      "cell_type": "markdown",
      "source": [
        "Optimal cluster using Silhoutte method : *2*"
      ],
      "metadata": {
        "id": "eb7U3EnXFGnw"
      }
    },
    {
      "cell_type": "markdown",
      "source": [
        "Conclusions: because each method gave as different answers, where \n",
        " \n",
        "\n",
        "1.   Gap statistic : 1 clusters\n",
        "2.   Elbow method : 5 clusters\n",
        "3.   Silhoutte : 2 clusters\n",
        "\n",
        "We decide to choose 2 as our number of cluster because most of our customers only but 1 time, so basically there are two customers segment, those who do repeat order, and those who dont."
      ],
      "metadata": {
        "id": "iyvq-jpbFKuO"
      }
    },
    {
      "cell_type": "markdown",
      "source": [
        "#Kmeans Clustering with k=2"
      ],
      "metadata": {
        "id": "z3vdhtIXHXQs"
      }
    },
    {
      "cell_type": "code",
      "source": [
        "kmeans_model = KMeans(\n",
        "    n_clusters = 2,\n",
        "    random_state=1000\n",
        ")\n",
        "\n",
        "kmeans_model.fit(data_for_kmeans)"
      ],
      "metadata": {
        "id": "-le2AcgrFGEb",
        "colab": {
          "base_uri": "https://localhost:8080/"
        },
        "outputId": "ca48def3-1eb3-4e0e-8f36-981101f8aa86"
      },
      "execution_count": 90,
      "outputs": [
        {
          "output_type": "execute_result",
          "data": {
            "text/plain": [
              "KMeans(n_clusters=2, random_state=1000)"
            ]
          },
          "metadata": {},
          "execution_count": 90
        }
      ]
    },
    {
      "cell_type": "code",
      "source": [
        "data_for_model[\"cluster\"] = kmeans_model.labels_"
      ],
      "metadata": {
        "id": "RD3kxpfvHqCF"
      },
      "execution_count": 91,
      "outputs": []
    },
    {
      "cell_type": "markdown",
      "source": [
        "total users per segment\n",
        "\n",
        "\n",
        "\n"
      ],
      "metadata": {
        "id": "xrC_6p9pHwGM"
      }
    },
    {
      "cell_type": "code",
      "source": [
        "sns.catplot(\n",
        "    y = \"cluster\", \n",
        "    data = data_for_model, \n",
        "    kind = \"count\", \n",
        "    height = 5\n",
        ").ax.set_title(\"Total Customer for Each Segment\");"
      ],
      "metadata": {
        "id": "WJFbaAUYH0Do",
        "colab": {
          "base_uri": "https://localhost:8080/",
          "height": 380
        },
        "outputId": "c9e43ae5-80a0-448a-8137-0589d68513cd"
      },
      "execution_count": 92,
      "outputs": [
        {
          "output_type": "display_data",
          "data": {
            "text/plain": [
              "<Figure size 360x360 with 1 Axes>"
            ],
            "image/png": "[encoded data removed]"
          },
          "metadata": {}
        }
      ]
    },
    {
      "cell_type": "markdown",
      "source": [
        "As explained above, cluster 0 must be the group of customers who mostly never making a second purchase"
      ],
      "metadata": {
        "id": "YLY6nw9pKBVi"
      }
    },
    {
      "cell_type": "markdown",
      "source": [
        "**Recency Days Distribution of Each Segment**"
      ],
      "metadata": {
        "id": "HhHha_dlIUZl"
      }
    },
    {
      "cell_type": "code",
      "source": [
        "sns.boxplot(x = 'cluster', y = 'recency', data = data_for_model)"
      ],
      "metadata": {
        "id": "yuCulAxLH7ZO",
        "colab": {
          "base_uri": "https://localhost:8080/",
          "height": 379
        },
        "outputId": "50347be0-734a-45de-ad40-296ab80f1d47"
      },
      "execution_count": 93,
      "outputs": [
        {
          "output_type": "execute_result",
          "data": {
            "text/plain": [
              "<matplotlib.axes._subplots.AxesSubplot at 0x7f9d9ccb4510>"
            ]
          },
          "metadata": {},
          "execution_count": 93
        },
        {
          "output_type": "display_data",
          "data": {
            "text/plain": [
              "<Figure size 576x396 with 1 Axes>"
            ],
            "image/png": "[encoded data removed]"
          },
          "metadata": {}
        }
      ]
    },
    {
      "cell_type": "markdown",
      "source": [
        "our cluster are divided into two, those who recently purchase and those who do not make purchase for a long time"
      ],
      "metadata": {
        "id": "4JfegbZbKiXP"
      }
    },
    {
      "cell_type": "markdown",
      "source": [
        "**Transaction Frequency Distribution of Each Segment**"
      ],
      "metadata": {
        "id": "VoG_ItHjICEM"
      }
    },
    {
      "cell_type": "code",
      "source": [
        "sns.boxplot(x = 'cluster', y = 'frequency', data = data_for_model)"
      ],
      "metadata": {
        "id": "5-h-ZBGnIKkk",
        "colab": {
          "base_uri": "https://localhost:8080/",
          "height": 379
        },
        "outputId": "6954811b-a9c0-46c4-c5db-465bd9026ea0"
      },
      "execution_count": 94,
      "outputs": [
        {
          "output_type": "execute_result",
          "data": {
            "text/plain": [
              "<matplotlib.axes._subplots.AxesSubplot at 0x7f9d97be0cd0>"
            ]
          },
          "metadata": {},
          "execution_count": 94
        },
        {
          "output_type": "display_data",
          "data": {
            "text/plain": [
              "<Figure size 576x396 with 1 Axes>"
            ],
            "image/png": "[encoded data removed]"
          },
          "metadata": {}
        }
      ]
    },
    {
      "cell_type": "markdown",
      "source": [
        "As mentioned above, cluster 0 must be the group of customers who mostly never making a second purchase\n",
        "\n"
      ],
      "metadata": {
        "id": "sWLGmy2lKLL9"
      }
    },
    {
      "cell_type": "code",
      "source": [
        "sns.boxplot(x = 'cluster', y = 'monetary_value', data = data_for_model)"
      ],
      "metadata": {
        "id": "jMnUV_FGIypC",
        "colab": {
          "base_uri": "https://localhost:8080/",
          "height": 379
        },
        "outputId": "fef9bef2-1f34-4ac4-ff94-ad4e280b761b"
      },
      "execution_count": 95,
      "outputs": [
        {
          "output_type": "execute_result",
          "data": {
            "text/plain": [
              "<matplotlib.axes._subplots.AxesSubplot at 0x7f9d977b52d0>"
            ]
          },
          "metadata": {},
          "execution_count": 95
        },
        {
          "output_type": "display_data",
          "data": {
            "text/plain": [
              "<Figure size 576x396 with 1 Axes>"
            ],
            "image/png": "[encoded data removed]"
          },
          "metadata": {}
        }
      ]
    },
    {
      "cell_type": "code",
      "source": [
        "sns.boxplot(x = 'cluster', y = 'predicted_clv', data = data_for_model)"
      ],
      "metadata": {
        "id": "YNScqsGyJM0V",
        "colab": {
          "base_uri": "https://localhost:8080/",
          "height": 379
        },
        "outputId": "5873f866-9494-42a0-9990-9293e41b6001"
      },
      "execution_count": 96,
      "outputs": [
        {
          "output_type": "execute_result",
          "data": {
            "text/plain": [
              "<matplotlib.axes._subplots.AxesSubplot at 0x7f9d9760b250>"
            ]
          },
          "metadata": {},
          "execution_count": 96
        },
        {
          "output_type": "display_data",
          "data": {
            "text/plain": [
              "<Figure size 576x396 with 1 Axes>"
            ],
            "image/png": "[encoded data removed]"
          },
          "metadata": {}
        }
      ]
    },
    {
      "cell_type": "markdown",
      "source": [
        "As expected, for those who mostly never making a second purchase have a low customer value"
      ],
      "metadata": {
        "id": "Ptd84ALyKNvL"
      }
    },
    {
      "cell_type": "markdown",
      "source": [
        "\n",
        "Based on the distribution of GMV, Recency, and Frequency, hereby the description of each cluster:\n",
        "\n",
        "\n",
        "1.   Cluster 0 - Low Customers value, most customers in this cluster are first time buyer and never return to purchase again. \n",
        "2.   Cluster 1 - Promosing Customers, customers who repeat orders and have a higher CLV than cluster 0. \n",
        "\n"
      ],
      "metadata": {
        "id": "y_McscwuMCK_"
      }
    }
  ]
}